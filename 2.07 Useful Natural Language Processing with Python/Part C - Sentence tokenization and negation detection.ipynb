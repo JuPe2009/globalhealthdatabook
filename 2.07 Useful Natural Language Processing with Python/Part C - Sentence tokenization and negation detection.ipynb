{
 "cells": [
  {
   "cell_type": "markdown",
   "metadata": {
    "colab_type": "text",
    "id": "kahC0Hi6sX7a"
   },
   "source": [
    "# Part C - Sentence Tokenization and Negation Detection\n",
    "\n",
    "A term can be mentioned in different contexts in a sentence or paragraph. For example, it could be affirmative, negated, hypothetical, probable (hedged), or related to another irrelevant subject. \n",
    "\n",
    "We will use \"pneumothorax\" in CXR report as an example here. After spotting CXR reports that mention pneumothorax, we will first tokenize the sentences in the report with NLTK \\cite{} then try determine if pneumothorax was affirmed and negated with Negex \\cite{}."
   ]
  },
  {
   "cell_type": "code",
   "execution_count": 1,
   "metadata": {
    "colab": {},
    "colab_type": "code",
    "id": "IghAvd9KsX7g"
   },
   "outputs": [],
   "source": [
    "# Basic required files\n",
    "import pandas as pd\n",
    "import numpy as np\n",
    "import random\n",
    "import nltk"
   ]
  },
  {
   "cell_type": "markdown",
   "metadata": {},
   "source": [
    "## Accessing notes data"
   ]
  },
  {
   "cell_type": "markdown",
   "metadata": {},
   "source": [
    "#### Option 1: Copy, paste and run the following SQL command in Query Builder and rename the downloaded file as \"part_c.csv\". Make sure the file is in the same directory as this notebook.\n",
    "\n",
    "SELECT row_id, subject_id, hadm_id, description, text\n",
    "FROM NOTEEVENTS \n",
    "WHERE description IN (\n",
    "'P CHEST (PORTABLE AP) PORT',  'P CHEST PORT. LINE PLACEMENT PORT', 'TRAUMA #3 (PORT CHEST ONLY)', 'OP CHEST (SINGLE VIEW) IN O.R. PORT', 'P CHEST (PRE-OP AP ONLY) PORT',\n",
    "'CHEST PORT. LINE PLACEMENT', 'CHEST PORTABLE LINE PLACMENT', 'P CHEST (SINGLE VIEW) PORT',\n",
    "'CHEST AP ONLY', 'O CHEST SGL VIEW/LINE PLACEMENT IN O.R.', 'CHEST (PORTABLE AP)',\n",
    "'PO CHEST (SINGLE VIEW) PORT IN O.R.', 'O CHEST (PORTABLE AP) IN O.R.', 'CHEST (PRE-OP AP ONLY)',\n",
    "'CHEST (SINGLE VIEW)', 'P CHEST SGL VIEW/LINE PLACEMENT PORT')\n",
    "LIMIT 100;\n"
   ]
  },
  {
   "cell_type": "code",
   "execution_count": 2,
   "metadata": {},
   "outputs": [],
   "source": [
    "# Then import the data into the notebook with the following code\n",
    "with open('part_c.csv') as cxr_reports:\n",
    "    df_cxr = pd.read_csv(cxr_reports)"
   ]
  },
  {
   "cell_type": "markdown",
   "metadata": {},
   "source": [
    "#### Option 2: Uncomment (command+/) if you already have mimiciii locally set up as a SQL database"
   ]
  },
  {
   "cell_type": "code",
   "execution_count": 3,
   "metadata": {
    "colab": {},
    "colab_type": "code",
    "id": "2oVmqJuLsX7s"
   },
   "outputs": [],
   "source": [
    "# Query CXR reports from MIMICIII database\n",
    "# cxr_query =\"\"\"SELECT row_id, subject_id, hadm_id, description, text\n",
    "# FROM mimiciii.NOTEEVENTS \n",
    "# WHERE description IN (\n",
    "# 'P CHEST (PORTABLE AP) PORT', \n",
    "# 'P CHEST PORT. LINE PLACEMENT PORT',\n",
    "# 'TRAUMA #3 (PORT CHEST ONLY)',\n",
    "# 'OP CHEST (SINGLE VIEW) IN O.R. PORT',\n",
    "# 'P CHEST (PRE-OP AP ONLY) PORT',\n",
    "# 'CHEST PORT. LINE PLACEMENT',\n",
    "# 'CHEST PORTABLE LINE PLACMENT',\n",
    "# 'P CHEST (SINGLE VIEW) PORT',\n",
    "# 'CHEST AP ONLY',\n",
    "# 'O CHEST SGL VIEW/LINE PLACEMENT IN O.R.',\n",
    "# 'CHEST (PORTABLE AP)',\n",
    "# 'PO CHEST (SINGLE VIEW) PORT IN O.R.',\n",
    "# 'O CHEST (PORTABLE AP) IN O.R.',\n",
    "# 'CHEST (PRE-OP AP ONLY)',\n",
    "# 'CHEST (SINGLE VIEW)',\n",
    "# 'P CHEST SGL VIEW/LINE PLACEMENT PORT')\n",
    "# LIMIT 100;\"\"\""
   ]
  },
  {
   "cell_type": "code",
   "execution_count": 4,
   "metadata": {
    "colab": {},
    "colab_type": "code",
    "id": "H30PHyTf2m0I"
   },
   "outputs": [],
   "source": [
    "# # Data access - Uncomment this block of notes you have set up mimiciii with MySQL\n",
    "# import pymysql\n",
    "# params = {'database': 'mimic', 'user': 'XXXXX', 'password': 'YYYYY', 'host': 'localhost'}\n",
    "# conn = pymysql.connect(**params)\n",
    "# #conn = pymysql.connect(db='mimiciii', user='popcorn', password='Butter!', host='localhost')\n",
    "\n",
    "# # Now load the data.\n",
    "# df_cxr = pd.read_sql_query(cxr_query, conn)"
   ]
  },
  {
   "cell_type": "code",
   "execution_count": 5,
   "metadata": {},
   "outputs": [],
   "source": [
    "# # Data access - Uncomment this block of notes if you have set up mimiciii with Postgres \n",
    "# import psycopg2\n",
    "# params = {'database': 'mimic', 'user': 'XXXXX', 'password': 'YYYYY', 'host': 'localhost'}\n",
    "# conn = psycopg2.connect(**params)\n",
    "\n",
    "# # Now load the data\n",
    "# df_cxr = pd.read_sql(cxr_query, conn)"
   ]
  },
  {
   "cell_type": "markdown",
   "metadata": {},
   "source": [
    "## Start NLP Exercises"
   ]
  },
  {
   "cell_type": "code",
   "execution_count": 6,
   "metadata": {},
   "outputs": [
    {
     "name": "stdout",
     "output_type": "stream",
     "text": [
      "(100, 5)\n"
     ]
    },
    {
     "data": {
      "text/html": [
       "<div>\n",
       "<style scoped>\n",
       "    .dataframe tbody tr th:only-of-type {\n",
       "        vertical-align: middle;\n",
       "    }\n",
       "\n",
       "    .dataframe tbody tr th {\n",
       "        vertical-align: top;\n",
       "    }\n",
       "\n",
       "    .dataframe thead th {\n",
       "        text-align: right;\n",
       "    }\n",
       "</style>\n",
       "<table border=\"1\" class=\"dataframe\">\n",
       "  <thead>\n",
       "    <tr style=\"text-align: right;\">\n",
       "      <th></th>\n",
       "      <th>row_id</th>\n",
       "      <th>subject_id</th>\n",
       "      <th>hadm_id</th>\n",
       "      <th>description</th>\n",
       "      <th>text</th>\n",
       "    </tr>\n",
       "  </thead>\n",
       "  <tbody>\n",
       "    <tr>\n",
       "      <th>0</th>\n",
       "      <td>739392</td>\n",
       "      <td>65535</td>\n",
       "      <td>178280.0</td>\n",
       "      <td>CHEST (PORTABLE AP)</td>\n",
       "      <td>[**2193-5-26**] 4:25 PM\\n CHEST (PORTABLE AP) ...</td>\n",
       "    </tr>\n",
       "    <tr>\n",
       "      <th>1</th>\n",
       "      <td>739434</td>\n",
       "      <td>16913</td>\n",
       "      <td>141587.0</td>\n",
       "      <td>CHEST (PORTABLE AP)</td>\n",
       "      <td>[**2175-7-6**] 6:21 PM\\n CHEST (PORTABLE AP)  ...</td>\n",
       "    </tr>\n",
       "    <tr>\n",
       "      <th>2</th>\n",
       "      <td>739875</td>\n",
       "      <td>24248</td>\n",
       "      <td>109789.0</td>\n",
       "      <td>CHEST (PORTABLE AP)</td>\n",
       "      <td>[**2158-5-31**] 3:15 PM\\n CHEST (PORTABLE AP) ...</td>\n",
       "    </tr>\n",
       "    <tr>\n",
       "      <th>3</th>\n",
       "      <td>740139</td>\n",
       "      <td>1287</td>\n",
       "      <td>NaN</td>\n",
       "      <td>CHEST (PORTABLE AP)</td>\n",
       "      <td>[**2138-7-8**] 9:27 AM\\n CHEST (PORTABLE AP)  ...</td>\n",
       "    </tr>\n",
       "    <tr>\n",
       "      <th>4</th>\n",
       "      <td>740182</td>\n",
       "      <td>2686</td>\n",
       "      <td>195175.0</td>\n",
       "      <td>CHEST (PORTABLE AP)</td>\n",
       "      <td>[**2179-8-4**] 7:28 PM\\n CHEST (PORTABLE AP)  ...</td>\n",
       "    </tr>\n",
       "  </tbody>\n",
       "</table>\n",
       "</div>"
      ],
      "text/plain": [
       "   row_id  subject_id   hadm_id          description  \\\n",
       "0  739392       65535  178280.0  CHEST (PORTABLE AP)   \n",
       "1  739434       16913  141587.0  CHEST (PORTABLE AP)   \n",
       "2  739875       24248  109789.0  CHEST (PORTABLE AP)   \n",
       "3  740139        1287       NaN  CHEST (PORTABLE AP)   \n",
       "4  740182        2686  195175.0  CHEST (PORTABLE AP)   \n",
       "\n",
       "                                                text  \n",
       "0  [**2193-5-26**] 4:25 PM\\n CHEST (PORTABLE AP) ...  \n",
       "1  [**2175-7-6**] 6:21 PM\\n CHEST (PORTABLE AP)  ...  \n",
       "2  [**2158-5-31**] 3:15 PM\\n CHEST (PORTABLE AP) ...  \n",
       "3  [**2138-7-8**] 9:27 AM\\n CHEST (PORTABLE AP)  ...  \n",
       "4  [**2179-8-4**] 7:28 PM\\n CHEST (PORTABLE AP)  ...  "
      ]
     },
     "execution_count": 6,
     "metadata": {},
     "output_type": "execute_result"
    }
   ],
   "source": [
    "print(df_cxr.shape)\n",
    "df_cxr.head()"
   ]
  },
  {
   "cell_type": "code",
   "execution_count": 7,
   "metadata": {},
   "outputs": [
    {
     "data": {
      "text/plain": [
       "100"
      ]
     },
     "execution_count": 7,
     "metadata": {},
     "output_type": "execute_result"
    }
   ],
   "source": [
    "len(df_cxr)"
   ]
  },
  {
   "cell_type": "markdown",
   "metadata": {
    "colab_type": "text",
    "id": "eItuw11H61V2"
   },
   "source": [
    "### Spotting reports that mention pneumothorax:"
   ]
  },
  {
   "cell_type": "code",
   "execution_count": 8,
   "metadata": {},
   "outputs": [],
   "source": [
    "# Simple spotter: Spot occurrence of a term in a given lexicon anywhere within a text document or sentence:\n",
    "def spotter(text, lexicon):\n",
    "    text = text.lower()\n",
    "    # Spot if a document mentions any of the terms in the lexicon (not worrying about negation detection yet)\n",
    "    match = [x in text for x in lexicon]\n",
    "    if any(match) == True:\n",
    "        mentioned = 1\n",
    "    else:\n",
    "        mentioned = 0\n",
    "    return mentioned"
   ]
  },
  {
   "cell_type": "code",
   "execution_count": 9,
   "metadata": {},
   "outputs": [],
   "source": [
    "# Lexicon for pneumothorax: this is a list of terms that are synonyms for pneumothorax which we will use to spot the concept in CXR reports:\n",
    "ptx = ['pneumothorax', 'ptx', 'pneumothoraces', 'pnuemothorax', 'pnumothorax', 'pntx', 'penumothorax', 'pneomothorax', 'pneumonthorax', 'pnemothorax', 'pneumothoraxes', 'pneumpthorax', 'pneuomthorax', 'pneumothorx', 'pneumothrax', 'pneumothroax', 'pneumothraces', 'pneunothorax', 'enlarging pneumo', 'pneumothoroax', 'pneuothorax']"
   ]
  },
  {
   "cell_type": "code",
   "execution_count": 10,
   "metadata": {
    "colab": {},
    "colab_type": "code",
    "id": "j2klc13vsX8b"
   },
   "outputs": [],
   "source": [
    "# Examples using spotter with:\n",
    "sent1 = 'Large left apical ptx present.'\n",
    "sent2 = 'Hello world for NLP negation'"
   ]
  },
  {
   "cell_type": "code",
   "execution_count": 11,
   "metadata": {
    "colab": {},
    "colab_type": "code",
    "id": "RrGoOz2rsX8q"
   },
   "outputs": [
    {
     "data": {
      "text/plain": [
       "1"
      ]
     },
     "execution_count": 11,
     "metadata": {},
     "output_type": "execute_result"
    }
   ],
   "source": [
    "# Pnemothorax mentioned in text, spotter return 1 (yes)\n",
    "spotter(sent1, ptx)"
   ]
  },
  {
   "cell_type": "code",
   "execution_count": 12,
   "metadata": {
    "colab": {},
    "colab_type": "code",
    "id": "mv8L6YgJsX8z"
   },
   "outputs": [
    {
     "data": {
      "text/plain": [
       "0"
      ]
     },
     "execution_count": 12,
     "metadata": {},
     "output_type": "execute_result"
    }
   ],
   "source": [
    "# Pneumothorax not mentioned in text, spotter return 0 (no)\n",
    "spotter(sent2, ptx)"
   ]
  },
  {
   "cell_type": "code",
   "execution_count": 13,
   "metadata": {},
   "outputs": [],
   "source": [
    "# Now loop spotter through all the \"reports\" and output report ids (row_id) that mention pneumothorax\n",
    "rowids = []\n",
    "for i in df_cxr.index:\n",
    "    text = df_cxr[\"text\"][i]\n",
    "    rowid = df_cxr[\"row_id\"][i]\n",
    "    if spotter(text, ptx) == 1:\n",
    "        rowids.append(rowid)"
   ]
  },
  {
   "cell_type": "code",
   "execution_count": 14,
   "metadata": {},
   "outputs": [
    {
     "data": {
      "text/plain": [
       "53"
      ]
     },
     "execution_count": 14,
     "metadata": {},
     "output_type": "execute_result"
    }
   ],
   "source": [
    "# Obviously, not all these reports that mention about pneumothorax entail that the patients have the condition\n",
    "len(rowids)"
   ]
  },
  {
   "cell_type": "markdown",
   "metadata": {},
   "source": [
    "#### Edge cases to think about:\n",
    "1. Are spaces before and/or after a term important - i.e. could it alter meaning of the spot?\n",
    "2. Are punctuations before and/or a term going?\n",
    "\n",
    "#### What could you do to deal with edge cases?\n",
    "1. Regular expression in spotting\n",
    "2. Or simply adding some added variations with punctuations or spaces on either end for each term in the lexicon (e.g. \" ptx/\")"
   ]
  },
  {
   "cell_type": "markdown",
   "metadata": {
    "colab_type": "text",
    "id": "te2F6evWsX9u"
   },
   "source": [
    "### Negation detection at its simplest:"
   ]
  },
  {
   "cell_type": "markdown",
   "metadata": {},
   "source": [
    "But it's not enough to just spot word occurrences to determine if a term mentioned in text is affirmative (positive/present) or not (negated)."
   ]
  },
  {
   "cell_type": "code",
   "execution_count": 15,
   "metadata": {
    "colab": {},
    "colab_type": "code",
    "id": "F4WUjy4LsX9w"
   },
   "outputs": [
    {
     "data": {
      "text/plain": [
       "1"
      ]
     },
     "execution_count": 15,
     "metadata": {},
     "output_type": "execute_result"
    }
   ],
   "source": [
    "# e.g. Pneumothorax mentioned in text but negated, a simple spotter would still return 1 (yes)\n",
    "sent3 = 'Pneumothorax has resolved.'\n",
    "spotter(sent3, ptx)"
   ]
  },
  {
   "cell_type": "markdown",
   "metadata": {},
   "source": [
    "However, if negation related words occur in close proximity (e.g. in the same sentence) to a spotted term, then we can write some rules to determine if the concept was negated or not"
   ]
  },
  {
   "cell_type": "code",
   "execution_count": 16,
   "metadata": {
    "colab": {},
    "colab_type": "code",
    "id": "gdD6dxLMsX99"
   },
   "outputs": [
    {
     "data": {
      "text/plain": [
       "1"
      ]
     },
     "execution_count": 16,
     "metadata": {},
     "output_type": "execute_result"
    }
   ],
   "source": [
    "# e.g. Simply spotting negation words in the same sentence:\n",
    "neg = ['no','never','not','removed', 'ruled out', 'resolved']\n",
    "spotter(sent3, neg)"
   ]
  },
  {
   "cell_type": "markdown",
   "metadata": {},
   "source": [
    "Luckily, smarter NLP folks have already written some negation libraries to spot negated mentioning of terms for us, which work in more complicated cases! We just have to do some pre-processing of the input text."
   ]
  },
  {
   "cell_type": "markdown",
   "metadata": {
    "colab_type": "text",
    "id": "72KosSwasX7p"
   },
   "source": [
    "### Sentence splitting before running negation detection with Negex:"
   ]
  },
  {
   "cell_type": "markdown",
   "metadata": {},
   "source": [
    "Instructions for installing NLTK: https://www.nltk.org/install.html"
   ]
  },
  {
   "cell_type": "code",
   "execution_count": 17,
   "metadata": {
    "colab": {},
    "colab_type": "code",
    "id": "39aeASmGsX75"
   },
   "outputs": [
    {
     "name": "stdout",
     "output_type": "stream",
     "text": [
      "[**2193-5-25**] 4:34 PM\n",
      " CHEST (PORTABLE AP)                                             Clip # [**Clip Number (Radiology) 48916**]\n",
      " Reason: s/p open heart surgery.Desaturating/agitated\n",
      " ______________________________________________________________________________\n",
      " [**Hospital 3**] MEDICAL CONDITION:\n",
      "  66 year old woman with CODE AND PROBABLE STROKE, S/P AVR\n",
      " REASON FOR THIS EXAMINATION:\n",
      "  s/p open heart surgery.Desaturating/agitated\n",
      " ______________________________________________________________________________\n",
      "                                 FINAL REPORT\n",
      " PORTABLE CHEST AT 4:43PM [**2193-5-25**]\n",
      "\n",
      " HISTORY: Cardiac arrest, resent heart surgery.\n",
      "\n",
      " Limited examination due to considerable motion shows bilateral pleural\n",
      " effusions. A subclavian venous catheter is identified. ETT not currently\n",
      " identified. There is no obvious pneumothorax. Changes at the right base as\n",
      " before.\n",
      "\n",
      " IMPRESSION: Limited examination. Parenchymal changes similar to [**2193-5-24**].\n",
      "\n",
      "\n"
     ]
    }
   ],
   "source": [
    "# Lets print a random report from df_cxr\n",
    "report = df_cxr.text[random.randint(0,100)]\n",
    "print(report)"
   ]
  },
  {
   "cell_type": "code",
   "execution_count": 18,
   "metadata": {
    "colab": {},
    "colab_type": "code",
    "id": "1XE_GBgB4f6w"
   },
   "outputs": [
    {
     "name": "stdout",
     "output_type": "stream",
     "text": [
      "Sentence 0:\n",
      "[**2193-5-25**] 4:34 PM   CHEST (PORTABLE AP)                                             Clip # [**Clip Number (Radiology) 48916**]   Reason: s/p open heart surgery.Desaturating/agitated   ______________________________________________________________________________   [**Hospital 3**] MEDICAL CONDITION:    66 year old woman with CODE AND PROBABLE STROKE, S/P AVR   REASON FOR THIS EXAMINATION:    s/p open heart surgery.Desaturating/agitated   ______________________________________________________________________________                                   FINAL REPORT   PORTABLE CHEST AT 4:43PM [**2193-5-25**]     HISTORY: Cardiac arrest, resent heart surgery.\n",
      "\n",
      "Sentence 1:\n",
      "Limited examination due to considerable motion shows bilateral pleural   effusions.\n",
      "\n",
      "Sentence 2:\n",
      "A subclavian venous catheter is identified.\n",
      "\n",
      "Sentence 3:\n",
      "ETT not currently   identified.\n",
      "\n",
      "Sentence 4:\n",
      "There is no obvious pneumothorax.\n",
      "\n",
      "Sentence 5:\n",
      "Changes at the right base as   before.\n",
      "\n",
      "Sentence 6:\n",
      "IMPRESSION: Limited examination.\n",
      "\n",
      "Sentence 7:\n",
      "Parenchymal changes similar to [**2193-5-24**].\n",
      "\n"
     ]
    }
   ],
   "source": [
    "# Simplest: Tokenize the sentences with sent_tokenize from NLTK\n",
    "from nltk.tokenize import sent_tokenize\n",
    "sents = sent_tokenize(report.replace('\\n','  ')) # removing new line breaks\n",
    "\n",
    "# Print out list of sentences:\n",
    "sent_count = 0\n",
    "for s in sents:\n",
    "    print(\"Sentence \" + str(sent_count) +\":\")\n",
    "    print(s)\n",
    "    print()\n",
    "    sent_count = sent_count + 1"
   ]
  },
  {
   "cell_type": "code",
   "execution_count": 19,
   "metadata": {
    "colab": {},
    "colab_type": "code",
    "id": "G7iMxWsUsX8B"
   },
   "outputs": [
    {
     "name": "stdout",
     "output_type": "stream",
     "text": [
      "Sentence 0: [0, 655]\n",
      "[**2193-5-25**] 4:34 PM   CHEST (PORTABLE AP)                                             Clip # [**Clip Number (Radiology) 48916**]   Reason: s/p open heart surgery.Desaturating/agitated   ______________________________________________________________________________   [**Hospital 3**] MEDICAL CONDITION:    66 year old woman with CODE AND PROBABLE STROKE, S/P AVR   REASON FOR THIS EXAMINATION:    s/p open heart surgery.Desaturating/agitated   ______________________________________________________________________________                                   FINAL REPORT   PORTABLE CHEST AT 4:43PM [**2193-5-25**]     HISTORY: Cardiac arrest, resent heart surgery.\n",
      "\n",
      "Sentence 1: [658, 740]\n",
      "Limited examination due to considerable motion shows bilateral pleural   effusions.\n",
      "\n",
      "Sentence 2: [741, 784]\n",
      "A subclavian venous catheter is identified.\n",
      "\n",
      "Sentence 3: [785, 815]\n",
      "ETT not currently   identified.\n",
      "\n",
      "Sentence 4: [816, 849]\n",
      "There is no obvious pneumothorax.\n",
      "\n",
      "Sentence 5: [850, 887]\n",
      "Changes at the right base as   before.\n",
      "\n",
      "Sentence 6: [890, 922]\n",
      "IMPRESSION: Limited examination.\n",
      "\n",
      "Sentence 7: [923, 970]\n",
      "Parenchymal changes similar to [**2193-5-24**].\n",
      "\n"
     ]
    }
   ],
   "source": [
    "# Alternatively, tokenize with PunktSentenceTokenizer from NLTK \n",
    "# This may be useful if, for some reason, you want to keep track of character offsets of sentences\n",
    "\n",
    "from nltk.tokenize.punkt import PunktSentenceTokenizer\n",
    "sent_count = 0\n",
    "for s_start, s_finish in PunktSentenceTokenizer().span_tokenize(report):\n",
    "    print(\"Sentence \" + str(sent_count) +\": \" + str([s_start, s_finish]))\n",
    "    print(report[s_start:s_finish].replace('\\n','  ')) #important not to accidentally alter the character offsets\n",
    "    print()\n",
    "    sent_count = sent_count + 1"
   ]
  },
  {
   "cell_type": "markdown",
   "metadata": {
    "colab_type": "text",
    "id": "TIf0l1nmsX-G"
   },
   "source": [
    "### Using an open-source Python library for negation - Negex:"
   ]
  },
  {
   "cell_type": "markdown",
   "metadata": {},
   "source": [
    "Download negex.python from: https://github.com/mongoose54/negex/tree/master/negex.python\n",
    "\n",
    "You just need to save the \"negex.py\" and \"negex_triggers.txt\" file in your working directory for the notebook to run the negex examples below."
   ]
  },
  {
   "cell_type": "code",
   "execution_count": 20,
   "metadata": {
    "colab": {},
    "colab_type": "code",
    "id": "lH7ofx7csX-J"
   },
   "outputs": [],
   "source": [
    "import negex\n",
    "# Read the trigger negation rule file that comes with negex\n",
    "rfile = open(r'negex_triggers.txt')\n",
    "irules = negex.sortRules(rfile.readlines())\n",
    "rfile.close()"
   ]
  },
  {
   "cell_type": "code",
   "execution_count": 21,
   "metadata": {},
   "outputs": [
    {
     "data": {
      "text/plain": [
       "'negated'"
      ]
     },
     "execution_count": 21,
     "metadata": {},
     "output_type": "execute_result"
    }
   ],
   "source": [
    "# Simple general example:\n",
    "sent = \"There is no evidence of ptx.\"\n",
    "ptx = ['pneumothorax', 'ptx', 'pneumothoraces', 'pnuemothorax', 'pnumothorax', 'pntx', 'penumothorax', 'pneomothorax', 'pneumonthorax', 'pnemothorax', 'pneumothoraxes', 'pneumpthorax', 'pneuomthorax', 'pneumothorx', 'pneumothrax', 'pneumothroax', 'pneumothraces', 'pneunothorax', 'enlarging pneumo', 'pneumothoroax', 'pneuothorax']\n",
    "tagger = negex.negTagger(sentence = sent, phrases = ptx, rules = irules, negP=False)\n",
    "negation = tagger.getNegationFlag()\n",
    "negation"
   ]
  },
  {
   "cell_type": "code",
   "execution_count": 22,
   "metadata": {},
   "outputs": [
    {
     "data": {
      "text/plain": [
       "53"
      ]
     },
     "execution_count": 22,
     "metadata": {},
     "output_type": "execute_result"
    }
   ],
   "source": [
    "# Subset from df_cxr notes that mention pneumothorax:\n",
    "df_ptx = df_cxr.loc[df_cxr['row_id'].isin(rowids)].copy()\n",
    "len(df_ptx)"
   ]
  },
  {
   "cell_type": "code",
   "execution_count": 23,
   "metadata": {
    "colab": {},
    "colab_type": "code",
    "id": "c4SH4MWFsX-O"
   },
   "outputs": [],
   "source": [
    "# Apply negex to the n-th note in the ptx dataset:\n",
    "note = df_ptx.text[0]"
   ]
  },
  {
   "cell_type": "code",
   "execution_count": 24,
   "metadata": {
    "colab": {},
    "colab_type": "code",
    "id": "CLsQFv0qsX-U"
   },
   "outputs": [
    {
     "name": "stdout",
     "output_type": "stream",
     "text": [
      "[**2193-5-26**] 4:25 PM\n",
      " CHEST (PORTABLE AP)                                             Clip # [**Clip Number (Radiology) 28825**]\n",
      " Reason: s/p placement of right chest tube for pleural effusion\n",
      " ______________________________________________________________________________\n",
      " [**Hospital 2**] MEDICAL CONDITION:\n",
      "  66 year old woman with CODE AND PROBABLE STROKE, S/P AVR\n",
      " REASON FOR THIS EXAMINATION:\n",
      "  s/p placement of right chest tube for pleural effusion\n",
      " ______________________________________________________________________________\n",
      "                                 FINAL REPORT\n",
      " INDICATION:  66 year old woman status post code with probable stroke.  Status\n",
      " post placement of right chest tube for pleural effusion.\n",
      "\n",
      " Single AP portable upright view of the chest performed at 16:44 hours on [**5-26**].\n",
      " Comparison is made with prior portable AP view of the chest performed [**5-25**] at\n",
      " 16:43 hours.\n",
      "\n",
      " SINGLE VIEW OF THE CHEST:  Clips and wires are again noted, consistent with\n",
      " prior median sternotomy.  Left central venous line is again noted, unchanged.\n",
      " Patient is status post placement of a right chest tube with its tip at the\n",
      " right apex.  There is no pneumothorax.\n",
      "\n",
      " There is mild cardiac enlargement.  Pulmonary vasculature is likely within\n",
      " normal limits, given technique and low lung volumes.  There is slight\n",
      " improvement in the right pleural effusion when compared to the prior study.\n",
      " The left hemidiaphragm is not well seen, and this may be related to technique.\n",
      "\n",
      " IMPRESSION:  Status post right chest tube placement with slight improvement in\n",
      " the right pleural effusion.\n",
      "\n",
      "\n"
     ]
    }
   ],
   "source": [
    "# Show the relevant CXR report for the analysis\n",
    "print(note)"
   ]
  },
  {
   "cell_type": "code",
   "execution_count": 25,
   "metadata": {
    "colab": {},
    "colab_type": "code",
    "id": "cMg45S-HsX-c"
   },
   "outputs": [
    {
     "name": "stdout",
     "output_type": "stream",
     "text": [
      "Sentence 0:\n",
      "There is no pneumothorax.\n",
      "Negex output: negated\n",
      "\n"
     ]
    }
   ],
   "source": [
    "# Tokenize the sentences:\n",
    "sents = sent_tokenize(note.replace('\\n','  ')) # replacing new line breaks\n",
    "# Applying spotter function to each sentence:\n",
    "neg_output = []\n",
    "count = 0\n",
    "for sent in sents:\n",
    "    # Apply Negex if a term in the ptx lexicon is spotted\n",
    "    if spotter(sent,ptx) == 1:\n",
    "        tagger = negex.negTagger(sentence = sent, phrases = ptx, rules = irules, negP=False)\n",
    "        negation = tagger.getNegationFlag()\n",
    "        neg_output.append(negation)\n",
    "        print(\"Sentence \" + str(count) + \":\\n\" + sent + \"\\nNegex output: \" + negation + '\\n')\n",
    "        count = count + 1"
   ]
  },
  {
   "cell_type": "code",
   "execution_count": 26,
   "metadata": {
    "colab": {},
    "colab_type": "code",
    "id": "XTrozTq7sX-o"
   },
   "outputs": [
    {
     "data": {
      "text/plain": [
       "['negated']"
      ]
     },
     "execution_count": 26,
     "metadata": {},
     "output_type": "execute_result"
    }
   ],
   "source": [
    "# If there are multiple sentences in the note that mention pneumothorax, we would be storing individual sentence's output in a list\n",
    "neg_output"
   ]
  },
  {
   "cell_type": "code",
   "execution_count": 27,
   "metadata": {
    "colab": {},
    "colab_type": "code",
    "id": "vqJmlOkAsX-s"
   },
   "outputs": [
    {
     "name": "stdout",
     "output_type": "stream",
     "text": [
      "Sentence: There is no pneumothorax.|Negex output: negated\n",
      "\n",
      "Sentence: No pneumothorax is present.|Negex output: negated\n",
      "\n",
      "Sentence: There is no pneumothorax.|Negex output: negated\n",
      "\n",
      "Sentence: No gross pneumothorax on the supine view.|Negex output: negated\n",
      "\n",
      "Sentence: [**2115-6-11**] 4:18 AM   CHEST (PORTABLE AP)                                             Clip # [**Clip Number (Radiology) 92385**]   Reason: [**Name (NI) 1734**] FOR PTX, LINE PLACEMENT S/P L IJ IN OR   ______________________________________________________________________________   [**Hospital 2**] MEDICAL CONDITION:    68 year old man with ESRD due to DM, CVA, S/P KIDNEY TX AND L IJ PLACEMENT.|Negex output: affirmed\n",
      "\n",
      "Sentence: REASON FOR THIS EXAMINATION:    [**Name (NI) 1734**] FOR PTX, LINE PLACEMENT S/P L IJ IN OR   ______________________________________________________________________________                                   FINAL REPORT   INDICATION:  Line placement in the O.R.|Negex output: affirmed\n",
      "\n",
      "Sentence: No pneumothorax is seen.|Negex output: negated\n",
      "\n",
      "Sentence: No   pneumothorax.|Negex output: negated\n",
      "\n",
      "Sentence: There is no evidence of consolidations, pleural   effusions or pneumothorax.|Negex output: negated\n",
      "\n",
      "Sentence: The right IJ line terminates in the mid   SVC, no pneumothorax is present.|Negex output: negated\n",
      "\n",
      "Sentence: There is no evidence of pleural effusion or   pneumothorax.|Negex output: negated\n",
      "\n",
      "Sentence: There is no pneumothorax following Swan-Ganz catheter insertion.|Negex output: negated\n",
      "\n",
      "Sentence: [**2162-5-4**] 12:58 PM   CHEST (PORTABLE AP)                                             Clip # [**Clip Number (Radiology) 50177**]   Reason: r/o ptx, check ct placement   ______________________________________________________________________________   CLINICAL INFORMATION & QUESTIONS TO BE ANSWERED:    r/o ptx, check ct placement   ______________________________________________________________________________                                   FINAL REPORT   INDICATION:  Chest tube placement.|Negex output: affirmed\n",
      "\n",
      "Sentence: Evaluate for pneumothorax.|Negex output: negated\n",
      "\n",
      "Sentence: No definite   pneumothorax.|Negex output: negated\n",
      "\n",
      "Sentence: IMPRESSION:  No pneumothorax.|Negex output: negated\n",
      "\n",
      "Sentence: No pneumothorax is seen.|Negex output: negated\n",
      "\n",
      "Sentence: No pneumothorax.|Negex output: negated\n",
      "\n",
      "Sentence: Lines and tubes as above without pneumothorax.|Negex output: negated\n",
      "\n",
      "Sentence: The left base also appears slightly lucent, but   since the left CP angle is excluded, determination for pneumothorax on this   supine view is suboptimal.|Negex output: affirmed\n",
      "\n",
      "Sentence: The left CP angle was not included within the margins of the film and there is   slight lucency at the left base; if there is any clinical concern for left   pneumothorax, repeat film including the left CP angle is suggested to exclude   the possibility of a basilar pneumothorax.|Negex output: negated\n",
      "\n",
      "Sentence: There is no pneumothorax.|Negex output: negated\n",
      "\n",
      "Sentence: No   pneumothorax.|Negex output: negated\n",
      "\n",
      "Sentence: There is no evidence of pneumothorax.|Negex output: negated\n",
      "\n",
      "Sentence: There is no   evidence of pleural effusion or pneumothorax.|Negex output: negated\n",
      "\n",
      "Sentence: There is no obvious pneumothorax.|Negex output: negated\n",
      "\n",
      "Sentence: There is no pneumothorax.|Negex output: negated\n",
      "\n",
      "Sentence: No pneumothorax is identified but the extreme right apex has been excluded   from the study and cannot be assessed.|Negex output: negated\n",
      "\n",
      "Sentence: No   evidence of pneumothorax, but extreme apex of the lung has been excluded.|Negex output: negated\n",
      "\n",
      "Sentence: This   precludes assessment for a tiny apical pneumothorax.|Negex output: affirmed\n",
      "\n",
      "Sentence: SMALL MEDIAL   LEFT PNEUMOTHORAX ALSO ON THE PREVIOUS FILM.|Negex output: affirmed\n",
      "\n",
      "Sentence: The medial   small left pneumothorax is not clearly visualized on the current study.|Negex output: affirmed\n",
      "\n",
      "Sentence: r/o ptx.|Negex output: affirmed\n",
      "\n",
      "Sentence: r/o ptx.|Negex output: affirmed\n",
      "\n",
      "Sentence: r/o ptx.|Negex output: affirmed\n",
      "\n",
      "Sentence: There is no pleural effusion or   pneumothorax.|Negex output: negated\n",
      "\n",
      "Sentence: IMPRESSION:  Post left pacemaker placement without pneumothorax.|Negex output: negated\n",
      "\n",
      "Sentence: No pneumothorax is identified.|Negex output: negated\n",
      "\n",
      "Sentence: No   pneumothorax is identified.|Negex output: negated\n",
      "\n",
      "Sentence: There   are new bilateral chest tubes present, and there is a tiny apical pneumothorax   on the left, seen only on one of two views.|Negex output: affirmed\n",
      "\n",
      "Sentence: Tiny left pneumothorax.|Negex output: affirmed\n",
      "\n",
      "Sentence: No pneumothorax is seen.|Negex output: negated\n",
      "\n",
      "Sentence: REASON FOR THIS EXAMINATION:    s/p aorto-bifem with pa catheter placed in or, please assess for position of    all lines and tubes and radiologic evidence of a pneumothorax.|Negex output: affirmed\n",
      "\n",
      "Sentence: No pneumothorax is identified.|Negex output: negated\n",
      "\n",
      "Sentence: No pneumothorax.|Negex output: negated\n",
      "\n",
      "Sentence: No pneumothorax|Negex output: negated\n",
      "\n",
      "Sentence: [**2125-5-24**] 1:24 PM   CHEST (PORTABLE AP)                                             Clip # [**Clip Number (Radiology) 24463**]   Reason: r/o PTX   ______________________________________________________________________________   [**Hospital 4**] MEDICAL CONDITION:    74 year old woman with sternal wound infection for operative debridement    tomorrow [**5-24**]   REASON FOR THIS EXAMINATION:    r/o PTX   ______________________________________________________________________________                                   FINAL REPORT   HISTORY:  Sternal wound infection, pre-op for debridement.|Negex output: affirmed\n",
      "\n",
      "Sentence: No evidence of pneumothorax.|Negex output: negated\n",
      "\n",
      "Sentence: No PTX.|Negex output: negated\n",
      "\n",
      "Sentence: No pneumothorax.|Negex output: negated\n",
      "\n",
      "Sentence: No pneumothorax.|Negex output: negated\n",
      "\n",
      "Sentence: No pneumothorax is identified.|Negex output: negated\n",
      "\n",
      "Sentence: [**2122-8-16**] 10:40 AM   CHEST (PORTABLE AP)                                             Clip # [**Clip Number (Radiology) 99329**]   Reason: s/p dialysis catheter placement, R/o PTX   ______________________________________________________________________________   [**Hospital 2**] MEDICAL CONDITION:    45 year old man with  s/p dialysis catheter placement   REASON FOR THIS EXAMINATION:    s/p dialysis catheter placement, R/o PTX   ______________________________________________________________________________                                   FINAL REPORT     PORTABLE CHEST, 11 AM, [**2122-8-16**].|Negex output: affirmed\n",
      "\n",
      "Sentence: There is no pneumothorax.|Negex output: negated\n",
      "\n",
      "Sentence: There is no pneumothorax or   pneumomediastinum.|Negex output: negated\n",
      "\n",
      "Sentence: No pneumothorax is seen.|Negex output: negated\n",
      "\n",
      "Sentence: No obvious   pneumothorax or pneumomediastinum is identified.|Negex output: negated\n",
      "\n",
      "Sentence: No   pneumothorax.|Negex output: negated\n",
      "\n",
      "Sentence: No pneumothorax.|Negex output: negated\n",
      "\n",
      "Sentence: No evidence for a pneumothorax.|Negex output: negated\n",
      "\n",
      "Sentence: [**2135-7-6**] 4:38 AM   CHEST (PORTABLE AP)                                             Clip # [**Clip Number (Radiology) 71432**]   Reason: [**Name (NI) **] FOR PTX   ______________________________________________________________________________   [**Hospital 2**] MEDICAL CONDITION:    79 year old woman IN CCU, S/P UNSUCCESSFUL RIJ LINE ATTEMPT.|Negex output: affirmed\n",
      "\n",
      "Sentence: REASON FOR THIS EXAMINATION:    [**Name (NI) **] FOR PTX   ______________________________________________________________________________                                   FINAL REPORT   HISTORY:  Attempted right IJ central venous catheter.|Negex output: affirmed\n",
      "\n",
      "Sentence: There is   no evidence of consolidations, pleural effusions, or pneumothorax.|Negex output: negated\n",
      "\n",
      "Sentence: No evidence of pneumothorax.|Negex output: negated\n",
      "\n",
      "Sentence: There is no pneumothorax.|Negex output: negated\n",
      "\n",
      "Sentence: IMPRESSION:     1) Satisfactory position of left subclavian line without pneumothorax.|Negex output: negated\n",
      "\n",
      "Sentence: [**2149-6-11**] 11:07 PM   CHEST (PORTABLE AP)                                             Clip # [**Clip Number (Radiology) 4448**]   Reason: s/p bypass, with central line, rule out pneumothorax   ______________________________________________________________________________   [**Hospital 3**] MEDICAL CONDITION:    79 year old man with hypotension s/p removal right infected prosthesis.|Negex output: affirmed\n",
      "\n",
      "Sentence: REASON FOR THIS EXAMINATION:    s/p bypass    with central line    rule out pneumothorax   ______________________________________________________________________________                                   FINAL REPORT   INDICATION:  Status post removal of a infected prosthesis, central line   placement.|Negex output: affirmed\n",
      "\n",
      "Sentence: No pneumothorax is seen.|Negex output: negated\n",
      "\n",
      "Sentence: No pneumothorax.|Negex output: negated\n",
      "\n",
      "Sentence: No pneumothorax.|Negex output: negated\n",
      "\n",
      "Sentence: There is a small left   apical pneumothorax with a visceral pleural line at the left third posterior   rib level.|Negex output: affirmed\n",
      "\n",
      "Sentence: Small left apical pneumothorax.|Negex output: affirmed\n",
      "\n",
      "Sentence: There is no evidence of pneumothorax.|Negex output: negated\n",
      "\n",
      "Sentence: There is no   evidence of consolidations, pleural effusions or pneumothorax.|Negex output: negated\n",
      "\n"
     ]
    },
    {
     "name": "stdout",
     "output_type": "stream",
     "text": [
      "Sentence: No pneumothorax is seen.|Negex output: negated\n",
      "\n",
      "Sentence: No pneumothorax is visualized .|Negex output: negated\n",
      "\n",
      "Sentence: No   pneumothorax is seen.|Negex output: negated\n",
      "\n",
      "Sentence: Please assess chest tube position, PTX   ______________________________________________________________________________   [**Hospital 2**] MEDICAL CONDITION:    63 year old man with s/p LUL and chest wall resection for left sup sulcus    tumor.|Negex output: affirmed\n",
      "\n",
      "Sentence: Please assess chest tube position, PTX   ______________________________________________________________________________                                   FINAL REPORT   INDICATION: S/P left upper lobe lobectomy for superior sulcus tumor.|Negex output: affirmed\n",
      "\n",
      "Sentence: No definite   pneumothorax is demonstrated, however, the left CP angle is not well   visualized so pneumothorax cannot be entirely excluded.|Negex output: negated\n",
      "\n",
      "Sentence: 2) No definite pneumothorax   demonstrated, however, pneumothorax cannot be excluded with left CP angle not   well included on our radiograph.|Negex output: negated\n",
      "\n",
      "Sentence: No pneumothorax is identified.|Negex output: negated\n",
      "\n",
      "Sentence: Satisfactory placement of central venous catheter with no evidence of   pneumothorax.|Negex output: negated\n",
      "\n",
      "Sentence: No   pneumothorax.|Negex output: negated\n",
      "\n",
      "Sentence: No   pneumothorax.|Negex output: negated\n",
      "\n",
      "Sentence: No pneumothorax is identified.|Negex output: negated\n",
      "\n",
      "Sentence: Swan ganz catheter in interlobar portion of right pulmonary artery with no   evidence of pneumothorax.|Negex output: negated\n",
      "\n",
      "Sentence: No   pneumothorax is appreciated.|Negex output: negated\n",
      "\n",
      "Sentence: pneumothorax and empyema.|Negex output: affirmed\n",
      "\n",
      "Sentence: pneumothorax and empyema.|Negex output: affirmed\n",
      "\n",
      "Sentence: No   pneumothorax.|Negex output: negated\n",
      "\n",
      "Sentence: No pneumothorax.|Negex output: negated\n",
      "\n",
      "Sentence: There is no   pneumothorax.|Negex output: negated\n",
      "\n"
     ]
    }
   ],
   "source": [
    "# Example: Now loop through the first 1000 notes in df_ptx (otherwise it would take a while to run on all 105233 reports)\n",
    "results_ptx = df_ptx[:100].copy()\n",
    "for i in results_ptx.index:\n",
    "    note = results_ptx.text[i]\n",
    "    sents = sent_tokenize(note.replace('\\n','  '))\n",
    "    neg_output = []\n",
    "    rel_sents = []\n",
    "    # If a sentence mentions pneumothorax\n",
    "    for sent in sents:    \n",
    "        if spotter(sent,ptx) == 1:\n",
    "            tagger = negex.negTagger(sentence = sent, phrases = ptx, rules = irules, negP=False)\n",
    "            negation = tagger.getNegationFlag()\n",
    "            neg_output.append(negation)\n",
    "            rel_sents.append(sent)\n",
    "            print(\"Sentence: \" + sent + \"|\" + \"Negex output: \" + negation + '\\n')\n",
    "    # Add a column in the df_ptx dataframe to \"structure\" the extracted ptx data\n",
    "    results_ptx.loc[i, 'ptx_prediction' ] = '|'.join(neg_output)\n",
    "    # Add a column in the df_ptx dataframe to store the relevant sentences that mentioned ptx\n",
    "    results_ptx.loc[i, 'ptx_sentences'] ='|'.join(rel_sents)"
   ]
  },
  {
   "cell_type": "code",
   "execution_count": 28,
   "metadata": {
    "colab": {},
    "colab_type": "code",
    "id": "IZwZ6kV-sX-v"
   },
   "outputs": [
    {
     "data": {
      "text/html": [
       "<div>\n",
       "<style scoped>\n",
       "    .dataframe tbody tr th:only-of-type {\n",
       "        vertical-align: middle;\n",
       "    }\n",
       "\n",
       "    .dataframe tbody tr th {\n",
       "        vertical-align: top;\n",
       "    }\n",
       "\n",
       "    .dataframe thead th {\n",
       "        text-align: right;\n",
       "    }\n",
       "</style>\n",
       "<table border=\"1\" class=\"dataframe\">\n",
       "  <thead>\n",
       "    <tr style=\"text-align: right;\">\n",
       "      <th></th>\n",
       "      <th>row_id</th>\n",
       "      <th>subject_id</th>\n",
       "      <th>hadm_id</th>\n",
       "      <th>description</th>\n",
       "      <th>text</th>\n",
       "      <th>ptx_prediction</th>\n",
       "      <th>ptx_sentences</th>\n",
       "    </tr>\n",
       "  </thead>\n",
       "  <tbody>\n",
       "    <tr>\n",
       "      <th>0</th>\n",
       "      <td>739392</td>\n",
       "      <td>65535</td>\n",
       "      <td>178280.0</td>\n",
       "      <td>CHEST (PORTABLE AP)</td>\n",
       "      <td>[**2193-5-26**] 4:25 PM\\n CHEST (PORTABLE AP) ...</td>\n",
       "      <td>negated</td>\n",
       "      <td>There is no pneumothorax.</td>\n",
       "    </tr>\n",
       "    <tr>\n",
       "      <th>1</th>\n",
       "      <td>739434</td>\n",
       "      <td>16913</td>\n",
       "      <td>141587.0</td>\n",
       "      <td>CHEST (PORTABLE AP)</td>\n",
       "      <td>[**2175-7-6**] 6:21 PM\\n CHEST (PORTABLE AP)  ...</td>\n",
       "      <td>negated|negated</td>\n",
       "      <td>No pneumothorax is present.|There is no pneumo...</td>\n",
       "    </tr>\n",
       "    <tr>\n",
       "      <th>8</th>\n",
       "      <td>739960</td>\n",
       "      <td>13101</td>\n",
       "      <td>123718.0</td>\n",
       "      <td>CHEST (PORTABLE AP)</td>\n",
       "      <td>[**2123-8-10**] 8:58 PM\\n CHEST (PORTABLE AP) ...</td>\n",
       "      <td>negated</td>\n",
       "      <td>No gross pneumothorax on the supine view.</td>\n",
       "    </tr>\n",
       "    <tr>\n",
       "      <th>11</th>\n",
       "      <td>739334</td>\n",
       "      <td>17807</td>\n",
       "      <td>122482.0</td>\n",
       "      <td>CHEST (PORTABLE AP)</td>\n",
       "      <td>[**2115-6-11**] 4:18 AM\\n CHEST (PORTABLE AP) ...</td>\n",
       "      <td>affirmed|affirmed|negated|negated</td>\n",
       "      <td>[**2115-6-11**] 4:18 AM   CHEST (PORTABLE AP) ...</td>\n",
       "    </tr>\n",
       "    <tr>\n",
       "      <th>12</th>\n",
       "      <td>739336</td>\n",
       "      <td>82202</td>\n",
       "      <td>161103.0</td>\n",
       "      <td>CHEST (PORTABLE AP)</td>\n",
       "      <td>[**2102-5-23**] 11:22 AM\\n CHEST (PORTABLE AP)...</td>\n",
       "      <td>negated</td>\n",
       "      <td>There is no evidence of consolidations, pleura...</td>\n",
       "    </tr>\n",
       "  </tbody>\n",
       "</table>\n",
       "</div>"
      ],
      "text/plain": [
       "    row_id  subject_id   hadm_id          description  \\\n",
       "0   739392       65535  178280.0  CHEST (PORTABLE AP)   \n",
       "1   739434       16913  141587.0  CHEST (PORTABLE AP)   \n",
       "8   739960       13101  123718.0  CHEST (PORTABLE AP)   \n",
       "11  739334       17807  122482.0  CHEST (PORTABLE AP)   \n",
       "12  739336       82202  161103.0  CHEST (PORTABLE AP)   \n",
       "\n",
       "                                                 text  \\\n",
       "0   [**2193-5-26**] 4:25 PM\\n CHEST (PORTABLE AP) ...   \n",
       "1   [**2175-7-6**] 6:21 PM\\n CHEST (PORTABLE AP)  ...   \n",
       "8   [**2123-8-10**] 8:58 PM\\n CHEST (PORTABLE AP) ...   \n",
       "11  [**2115-6-11**] 4:18 AM\\n CHEST (PORTABLE AP) ...   \n",
       "12  [**2102-5-23**] 11:22 AM\\n CHEST (PORTABLE AP)...   \n",
       "\n",
       "                       ptx_prediction  \\\n",
       "0                             negated   \n",
       "1                     negated|negated   \n",
       "8                             negated   \n",
       "11  affirmed|affirmed|negated|negated   \n",
       "12                            negated   \n",
       "\n",
       "                                        ptx_sentences  \n",
       "0                           There is no pneumothorax.  \n",
       "1   No pneumothorax is present.|There is no pneumo...  \n",
       "8           No gross pneumothorax on the supine view.  \n",
       "11  [**2115-6-11**] 4:18 AM   CHEST (PORTABLE AP) ...  \n",
       "12  There is no evidence of consolidations, pleura...  "
      ]
     },
     "execution_count": 28,
     "metadata": {},
     "output_type": "execute_result"
    }
   ],
   "source": [
    "results_ptx.head()"
   ]
  },
  {
   "cell_type": "code",
   "execution_count": 29,
   "metadata": {},
   "outputs": [],
   "source": [
    "# Export your structured results!\n",
    "# tab delimited\n",
    "results_ptx.to_csv(\"ptx_results.txt\", sep = '\\t', encoding='utf-8', index=False)\n",
    "# as csv:\n",
    "#df_ptx.to_csv(\"ptx_results.csv\", index=False)"
   ]
  },
  {
   "cell_type": "markdown",
   "metadata": {},
   "source": [
    "#### Comments:\n",
    "You can see that Negex is not perfect at its sentence level prediction. Here, it is not picking up hypothetical mentions of pneumothorax - it thinks \"r/o ptx\" is affirmed. However, from the whole report level, later sentences might give a more correct negated prediction.\n",
    "\n",
    "#### Exercise for you:\n",
    "So what could you do to further improve the output?"
   ]
  },
  {
   "cell_type": "markdown",
   "metadata": {},
   "source": [
    "### Summary points:\n",
    "\n",
    "1. The same medical concept can be described in many different equivalent ways in unstructured texts. A more robust vocabulary that recognize a concept of interest in many forms would help you spot the concept with higher sensitivity.\n",
    "2. After spotting an occurrence of a term of interest in unstructured text, it may be important to interpret its context next.\n",
    "3. Negation detection is one type of NLP context interpretation. There are many others and the importance of each depends on your task.\n",
    "4. Negation detection at its simplest may be the detection of a negation-related term (e.g. no) in the same sentence. More complex NLP libraries, such as Negex and sPacy, can help you do a better job in more complicated cases.\n",
    "5. At a whole document level, a term or concept may be mentioned in multiple sentences in different context. It is up to experts (you) to determine how to put together all the information to give the best prediction for the patient."
   ]
  },
  {
   "cell_type": "code",
   "execution_count": null,
   "metadata": {},
   "outputs": [],
   "source": []
  }
 ],
 "metadata": {
  "colab": {
   "collapsed_sections": [],
   "include_colab_link": true,
   "name": "Copy of MIT Tutorial - Part - C - Pneumothorax.ipynb",
   "provenance": [],
   "version": "0.3.2"
  },
  "kernelspec": {
   "display_name": "Python 3",
   "language": "python",
   "name": "python3"
  },
  "language_info": {
   "codemirror_mode": {
    "name": "ipython",
    "version": 3
   },
   "file_extension": ".py",
   "mimetype": "text/x-python",
   "name": "python",
   "nbconvert_exporter": "python",
   "pygments_lexer": "ipython3",
   "version": "3.6.8"
  }
 },
 "nbformat": 4,
 "nbformat_minor": 1
}
