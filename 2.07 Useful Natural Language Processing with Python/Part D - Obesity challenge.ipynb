{
 "cells": [
  {
   "cell_type": "markdown",
   "metadata": {},
   "source": [
    "# Part D - Obesity challenge\n"
   ]
  },
  {
   "cell_type": "code",
   "execution_count": 1,
   "metadata": {},
   "outputs": [],
   "source": [
    "# First off - load all the silly python libraries we are going to need\n",
    "import pandas as pd\n",
    "import numpy as np"
   ]
  },
  {
   "cell_type": "markdown",
   "metadata": {},
   "source": [
    "## Accessing notes data\n",
    "\n",
    "The SQL query for this exercise is fairly long so it is saved in a separate text file: **part_d_query.txt**\n",
    "\n",
    "#### Copy the SQL command from the text file, then paste and run the command in Query Builder. Rename the downloaded file as \"obese-gold.csv\". Make sure the file is saved in the same directory as this notebook."
   ]
  },
  {
   "cell_type": "markdown",
   "metadata": {},
   "source": [
    "## Start NLP Exercises"
   ]
  },
  {
   "cell_type": "code",
   "execution_count": 2,
   "metadata": {},
   "outputs": [],
   "source": [
    "# Now load the data.\n",
    "notes_filename = 'obese-gold.csv'\n",
    "obesity_challenge = pd.read_csv(notes_filename)"
   ]
  },
  {
   "cell_type": "code",
   "execution_count": 3,
   "metadata": {},
   "outputs": [
    {
     "name": "stdout",
     "output_type": "stream",
     "text": [
      "(120, 11)\n"
     ]
    },
    {
     "data": {
      "text/html": [
       "<div>\n",
       "<style scoped>\n",
       "    .dataframe tbody tr th:only-of-type {\n",
       "        vertical-align: middle;\n",
       "    }\n",
       "\n",
       "    .dataframe tbody tr th {\n",
       "        vertical-align: top;\n",
       "    }\n",
       "\n",
       "    .dataframe thead th {\n",
       "        text-align: right;\n",
       "    }\n",
       "</style>\n",
       "<table border=\"1\" class=\"dataframe\">\n",
       "  <thead>\n",
       "    <tr style=\"text-align: right;\">\n",
       "      <th></th>\n",
       "      <th>subject_id</th>\n",
       "      <th>hadm_id</th>\n",
       "      <th>icustay_id</th>\n",
       "      <th>weight_first</th>\n",
       "      <th>height_first</th>\n",
       "      <th>bmi</th>\n",
       "      <th>obese</th>\n",
       "      <th>chartdate</th>\n",
       "      <th>category</th>\n",
       "      <th>description</th>\n",
       "      <th>text</th>\n",
       "    </tr>\n",
       "  </thead>\n",
       "  <tbody>\n",
       "    <tr>\n",
       "      <th>0</th>\n",
       "      <td>41</td>\n",
       "      <td>101757</td>\n",
       "      <td>261027</td>\n",
       "      <td>75.0</td>\n",
       "      <td>187.96</td>\n",
       "      <td>21.229042</td>\n",
       "      <td>0</td>\n",
       "      <td>2133-01-27</td>\n",
       "      <td>Discharge summary</td>\n",
       "      <td>Report</td>\n",
       "      <td>Admission Date:  [**2132-12-31**]             ...</td>\n",
       "    </tr>\n",
       "    <tr>\n",
       "      <th>1</th>\n",
       "      <td>109</td>\n",
       "      <td>102024</td>\n",
       "      <td>232807</td>\n",
       "      <td>45.0</td>\n",
       "      <td>152.40</td>\n",
       "      <td>19.375039</td>\n",
       "      <td>0</td>\n",
       "      <td>2142-06-05</td>\n",
       "      <td>Discharge summary</td>\n",
       "      <td>Report</td>\n",
       "      <td>Admission Date:  [**2142-5-20**]              ...</td>\n",
       "    </tr>\n",
       "    <tr>\n",
       "      <th>2</th>\n",
       "      <td>181</td>\n",
       "      <td>102631</td>\n",
       "      <td>246694</td>\n",
       "      <td>81.8</td>\n",
       "      <td>193.04</td>\n",
       "      <td>21.951221</td>\n",
       "      <td>0</td>\n",
       "      <td>2153-10-12</td>\n",
       "      <td>Discharge summary</td>\n",
       "      <td>Report</td>\n",
       "      <td>Admission Date:  [**2153-10-14**]     Discharg...</td>\n",
       "    </tr>\n",
       "    <tr>\n",
       "      <th>3</th>\n",
       "      <td>30</td>\n",
       "      <td>104557</td>\n",
       "      <td>225176</td>\n",
       "      <td>65.7</td>\n",
       "      <td>165.10</td>\n",
       "      <td>24.103007</td>\n",
       "      <td>0</td>\n",
       "      <td>2172-10-19</td>\n",
       "      <td>Discharge summary</td>\n",
       "      <td>Report</td>\n",
       "      <td>Admission Date:  [**2172-10-14**]       Discha...</td>\n",
       "    </tr>\n",
       "    <tr>\n",
       "      <th>4</th>\n",
       "      <td>223</td>\n",
       "      <td>105694</td>\n",
       "      <td>231395</td>\n",
       "      <td>69.3</td>\n",
       "      <td>175.26</td>\n",
       "      <td>22.561482</td>\n",
       "      <td>0</td>\n",
       "      <td>2157-07-01</td>\n",
       "      <td>Discharge summary</td>\n",
       "      <td>Report</td>\n",
       "      <td>Admission Date:  [**2157-5-1**]              D...</td>\n",
       "    </tr>\n",
       "  </tbody>\n",
       "</table>\n",
       "</div>"
      ],
      "text/plain": [
       "   subject_id  hadm_id  icustay_id  weight_first  height_first        bmi  \\\n",
       "0          41   101757      261027          75.0        187.96  21.229042   \n",
       "1         109   102024      232807          45.0        152.40  19.375039   \n",
       "2         181   102631      246694          81.8        193.04  21.951221   \n",
       "3          30   104557      225176          65.7        165.10  24.103007   \n",
       "4         223   105694      231395          69.3        175.26  22.561482   \n",
       "\n",
       "   obese   chartdate           category description  \\\n",
       "0      0  2133-01-27  Discharge summary      Report   \n",
       "1      0  2142-06-05  Discharge summary      Report   \n",
       "2      0  2153-10-12  Discharge summary      Report   \n",
       "3      0  2172-10-19  Discharge summary      Report   \n",
       "4      0  2157-07-01  Discharge summary      Report   \n",
       "\n",
       "                                                text  \n",
       "0  Admission Date:  [**2132-12-31**]             ...  \n",
       "1  Admission Date:  [**2142-5-20**]              ...  \n",
       "2  Admission Date:  [**2153-10-14**]     Discharg...  \n",
       "3  Admission Date:  [**2172-10-14**]       Discha...  \n",
       "4  Admission Date:  [**2157-5-1**]              D...  "
      ]
     },
     "execution_count": 3,
     "metadata": {},
     "output_type": "execute_result"
    }
   ],
   "source": [
    "print(obesity_challenge.shape)\n",
    "obesity_challenge.head()"
   ]
  },
  {
   "cell_type": "markdown",
   "metadata": {},
   "source": [
    "In this dataframe, one column, \"obese\", defines patients who are obese (1) or normal (0).  The definition of obese is BMI ≥ 30, overweight is BMI ≥ 25 and < 30, normal is BMI ≥ 18.5 and < 25)."
   ]
  },
  {
   "cell_type": "code",
   "execution_count": 4,
   "metadata": {},
   "outputs": [],
   "source": [
    "# Subset out the notes\n",
    "notes = obesity_challenge[['subject_id', 'text']]\n",
    "\n",
    "# Subset out the \"right answers\" here\n",
    "gold = obesity_challenge[['subject_id', 'obese']]\n",
    "\n",
    "# JOY - Please put your code here"
   ]
  },
  {
   "cell_type": "code",
   "execution_count": 5,
   "metadata": {},
   "outputs": [],
   "source": [
    "# Here is the list of terms we are going to consider \"good\"\n",
    "terms = ['obese']"
   ]
  },
  {
   "cell_type": "code",
   "execution_count": 6,
   "metadata": {},
   "outputs": [
    {
     "name": "stdout",
     "output_type": "stream",
     "text": [
      "Found 21 matching notes.\n"
     ]
    }
   ],
   "source": [
    "# Now scan through all of the notes. Do any of the terms appear? If so stash the note \n",
    "# id for future use\n",
    "\n",
    "matches = []\n",
    "\n",
    "for index, row in notes.iterrows():\n",
    "    if any(x in row['text'] for x in terms):\n",
    "        matches.append(row['subject_id'])\n",
    "\n",
    "print(\"Found \" + str(len(matches)) + \" matching notes.\")"
   ]
  },
  {
   "cell_type": "code",
   "execution_count": 7,
   "metadata": {},
   "outputs": [],
   "source": [
    "# For the patients in those notes, set \"obese\" true (1) in a the results\n",
    "myscores = gold.copy()\n",
    "myscores['obese'] = 0 # This sets them all to unknown\n",
    "\n",
    "for subject_id in matches:\n",
    "    myscores.loc[myscores[\"subject_id\"] == subject_id,'obese'] = 1\n"
   ]
  },
  {
   "cell_type": "code",
   "execution_count": 8,
   "metadata": {},
   "outputs": [
    {
     "name": "stdout",
     "output_type": "stream",
     "text": [
      "Skipped:\t91\n",
      "True Pos:\t19\n",
      "True Neg:\t0\n",
      "False Pos:\t0\n",
      "False Neg:\t0\n",
      "SCORE:\t\t19\n"
     ]
    }
   ],
   "source": [
    "# Compute your score:\n",
    "\n",
    "skipped = 0\n",
    "truepositive = 0\n",
    "falsepositive = 0\n",
    "truenegative = 0\n",
    "falsenegative = 0\n",
    "\n",
    "for index, row in myscores.iterrows():\n",
    "    if row['obese'] == 0:\n",
    "        skipped = skipped + 1\n",
    "    else:\n",
    "        if row['obese'] == 1 and gold.loc[index]['obese'] == 1:\n",
    "            truepositive = truepositive + 1\n",
    "        elif row['obese'] == -1 and gold.loc[index]['obese'] == -1:\n",
    "            truenegative = truenegative + 1\n",
    "        elif row['obese'] == 1 and gold.loc[index]['obese'] == -1:\n",
    "            falsepositive = falsepositive + 1\n",
    "        elif row['obese'] == -1 and gold.loc[index]['obese'] == 1:\n",
    "            falsenegative = falsenegative + 1\n",
    "\n",
    "print (\"Skipped:\\t\" + str(skipped))\n",
    "print (\"True Pos:\\t\" + str(truepositive))\n",
    "print (\"True Neg:\\t\" + str(truenegative))\n",
    "print (\"False Pos:\\t\" + str(falsepositive))\n",
    "print (\"False Neg:\\t\" + str(falsenegative))     \n",
    "print (\"SCORE:\\t\\t\" + str(truepositive + truenegative - falsepositive - falsenegative))\n"
   ]
  },
  {
   "cell_type": "markdown",
   "metadata": {},
   "source": [
    "## NLP Exercise: can you do better?\n",
    "\n",
    "We got a score of 19 (out of a possible 100). Can you do better?\n"
   ]
  },
  {
   "cell_type": "code",
   "execution_count": null,
   "metadata": {},
   "outputs": [],
   "source": []
  }
 ],
 "metadata": {
  "kernelspec": {
   "display_name": "Python 3",
   "language": "python",
   "name": "python3"
  },
  "language_info": {
   "codemirror_mode": {
    "name": "ipython",
    "version": 3
   },
   "file_extension": ".py",
   "mimetype": "text/x-python",
   "name": "python",
   "nbconvert_exporter": "python",
   "pygments_lexer": "ipython3",
   "version": "3.6.8"
  }
 },
 "nbformat": 4,
 "nbformat_minor": 2
}
