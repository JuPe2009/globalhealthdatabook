{
 "cells": [
  {
   "cell_type": "markdown",
   "metadata": {
    "colab_type": "text",
    "id": "-sfcA9tSUNeu"
   },
   "source": [
    "# Part B - Fun with regular expressions!!\n",
    "\n",
    "In this section, we will learn what a regular expression is and use our new learn skills to get information from notes in MIMIC.\n",
    "\n",
    "**What is a Regular Expression:**\n",
    "* A regular expression (RegEx) is a sophisticated search command, it makes use of patterns\n",
    "* This can be implemented in many different languages. The specific syntax used in each language may vary, but the concepts are the same!\n",
    "\n",
    "Please refer to this for some basic regular expression definitions: \n",
    "http://web.mit.edu/hackl/www/lab/turkshop/slides/regex-cheatsheet.pdf\n"
   ]
  },
  {
   "cell_type": "markdown",
   "metadata": {
    "colab_type": "text",
    "id": "21rcOnS1Se_9"
   },
   "source": [
    "### B.0 Fancy Pattern Matching\n",
    "To visualize how regular expressions work, we will use the following website: \n",
    "https://regex101.com/ \n",
    "\n",
    "Please go to this website in another browser.\n",
    "<br><br><br>\n",
    "\n",
    "You will see a window like this.\n",
    "<img src=\"https://raw.githubusercontent.com/christinium/JapanRegEx/316caa5e0f10011b5483c299ec417ed78bf563b0/images/regex101_demo.png\" alt=\"Demo\" style=\"width:700px;\"/>\n",
    "\n",
    "<br><br>\n",
    "### Example 1:\n",
    "1) In the **Test String**  box, please paste the following:\n",
    "\n",
    "```\n",
    "Lisinopril 40 MG PO Daily\n",
    "LISINOPRIL 20 MG PO DAILY\n",
    "lisinoprl 10 mg PO Daily\n",
    "The patient is allergic to lisinopril.\n",
    "April showers bring may flowers.\n",
    "metoprolol XL 100 mg PO Daily\n",
    "```\n",
    "\n",
    "2) In the **Regular Expression** box, please try out each one of these patterns and observe the difference in items that are highlighted.\n",
    "\n",
    "Pattern | Meaning\n",
    "--------|--------\n",
    ". |\tA period catches all characters (each one is a different color)\n",
    "pril |\tthis only catches the phrase pril\n",
    ".\\*pril |\tthis catches 0 or more characters before pril\n",
    "[a-z] |\tthis catches all alphabetical characters\n",
    "[abcdefghijklmnopqrstuvwxyz] | this also catches all alphabetical characters\n",
    "[abcde]|this catches just a, b, c, d, or e\n",
    "[a-z]\\*pril |\tthis catches 0 or more characters, <br> lower case, but does not match spaces or numbers etc\n",
    "[aA-zZ]+pril| this catches words with one or more character prior to ending in pril\n",
    "[aA-zZ]{2,} | pril\tthis catches words with 2 or more characters prir to ending in pril\n",
    "lisinopril&#124;losartan |\tthis catches lisinopril or losartan\n",
    "\\d\t| this catches numerical digits\n",
    "\\d{2} |\tthis catches two numberical digits\n",
    "\n",
    "<br><br>\n"
   ]
  },
  {
   "cell_type": "markdown",
   "metadata": {
    "colab_type": "text",
    "id": "mubH_GJBVHdo"
   },
   "source": [
    "### Exercise 1: \n",
    "1) In the Test String box, please paste the following:\n",
    "```\n",
    "Metoprolol 10 mg PO daily\n",
    "Omeprazole 10 mg PO BID\n",
    "Lasix 10 mg PO BID\n",
    "Carvedilol 3.125 mg PO BID\n",
    "Amlodipine 10 mg PO Daily\n",
    "Labetalol 100 mg PO TID\n",
    "```\n",
    "\n",
    "2) What would you type in the **Regular Expression** box to find:<br>\n",
    "a) How do you write an expression to just pull out the betablockers, a type of medication that can decrease the heart rate and blood pressure (they end in lol)<br>\n",
    "b) You want to help someone figure out drugs that need to be dosed twice daily (or BID) for dosing purposes. How do you print out only lines that or twice a day (BID)?  \n",
    "c) How do you print lines that are more than once a day (including both BID and TID, which is three times daily)?\n",
    "\n",
    "_\\*\\*Answers on the Bottom_\n"
   ]
  },
  {
   "cell_type": "markdown",
   "metadata": {
    "colab_type": "text",
    "id": "kgGFVdVtZT7-"
   },
   "source": [
    "## B.1 Regular Expressions using MIMIC Clinical Notes!\n",
    "In this section, we will use a python (yay!) notebook to use use regular expressions on real clinical notes from MIMIC-III.  There are over 2 million (!) free text notes in here, so there is a ton of data to be used!<br><br>\n",
    "We will now go through each python code block.<br>\n",
    "To run a block select it and press **shift** + **enter**\n"
   ]
  },
  {
   "cell_type": "markdown",
   "metadata": {
    "colab_type": "text",
    "id": "CybKUGa8y-IE"
   },
   "source": [
    "**Import Libraries**:\n",
    "The cell below imports the necessaary libraries so that our python notebook can talk to the MIMIC database using Google's bigquery library and pull the notes from the database."
   ]
  },
  {
   "cell_type": "code",
   "execution_count": 1,
   "metadata": {
    "colab": {},
    "colab_type": "code",
    "id": "IR0nQQOxULq9"
   },
   "outputs": [],
   "source": [
    "import os\n",
    "import pandas as pd\n",
    "import pymysql"
   ]
  },
  {
   "cell_type": "markdown",
   "metadata": {},
   "source": [
    "## Accessing notes data"
   ]
  },
  {
   "cell_type": "markdown",
   "metadata": {},
   "source": [
    "#### Option 1: Copy, paste and run the following SQL command in Query Builder and rename the downloaded file as \"part_b.csv\". Make sure the file is in the same directory as this notebook.\n",
    "\n",
    "SELECT row_id, subject_id, hadm_id, TEXT\n",
    "FROM noteevents\n",
    "WHERE CATEGORY = 'Echo'\n",
    "LIMIT 10;\n"
   ]
  },
  {
   "cell_type": "markdown",
   "metadata": {
    "colab_type": "text",
    "id": "NGDh5BToVSbp"
   },
   "source": [
    "This is the actual SQL query. Notes are contained in the NOTEEVENTS table. This table has ###  ?elements/columns (\\*fill in columns).  The column with the actual text of the report is  the \"text\" column. Here, we extracting  the TEXT column from the first ten rows of the NOTEEVENTS table.  <br><br>"
   ]
  },
  {
   "cell_type": "code",
   "execution_count": 2,
   "metadata": {},
   "outputs": [],
   "source": [
    "# Then import the data into the notebook with the following code\n",
    "with open('part_b.csv') as echo_reports:\n",
    "    first_ten_echo_reports = pd.read_csv(echo_reports)"
   ]
  },
  {
   "cell_type": "code",
   "execution_count": 3,
   "metadata": {},
   "outputs": [
    {
     "name": "stdout",
     "output_type": "stream",
     "text": [
      "(10, 4)\n"
     ]
    }
   ],
   "source": [
    "print(first_ten_echo_reports.shape)"
   ]
  },
  {
   "cell_type": "markdown",
   "metadata": {},
   "source": [
    "#### Option 2: Uncomment (command+/) if you already have mimiciii locally set up as a SQL database"
   ]
  },
  {
   "cell_type": "code",
   "execution_count": 4,
   "metadata": {},
   "outputs": [],
   "source": [
    "# sql ='''\n",
    "# SELECT row_id, subject_id, hadm_id, TEXT\n",
    "# FROM mimiciii.NOTEEVENTS\n",
    "# WHERE CATEGORY = 'Echo'\n",
    "# LIMIT 10;\n",
    "# '''"
   ]
  },
  {
   "cell_type": "code",
   "execution_count": 5,
   "metadata": {
    "colab": {},
    "colab_type": "code",
    "id": "fyWuYHqMIjxE"
   },
   "outputs": [],
   "source": [
    "# # Data access - Uncomment this block of notes you have set up mimiciii with MySQL\n",
    "# import pymysql\n",
    "# params = {'database': 'mimic', 'user': 'XXXXX', 'password': 'YYYYY', 'host': 'localhost'}\n",
    "# conn = pymysql.connect(**params)\n",
    "\n",
    "# # Now load the data.\n",
    "# first_twenty_echo_reports = pd.read_sql_query(sql,conn)"
   ]
  },
  {
   "cell_type": "code",
   "execution_count": 6,
   "metadata": {
    "colab": {},
    "colab_type": "code",
    "id": "R5y8n88sI2IQ"
   },
   "outputs": [],
   "source": [
    "# # Data access - Uncomment this block of notes if you have set up mimiciii with Postgres \n",
    "# import psycopg2\n",
    "# params = {'database': 'mimic', 'user': 'XXXXX', 'password': 'YYYYY', 'host': 'localhost'}\n",
    "# conn = psycopg2.connect(**params)\n",
    "\n",
    "# # Now load the data.\n",
    "# first_twenty_echo_reports = pd.read_sql(sql,conn)"
   ]
  },
  {
   "cell_type": "markdown",
   "metadata": {},
   "source": [
    "## Start NLP Exercises"
   ]
  },
  {
   "cell_type": "markdown",
   "metadata": {
    "colab_type": "text",
    "id": "EIck0_f3VvYY"
   },
   "source": [
    "Let us examine the result of our query."
   ]
  },
  {
   "cell_type": "code",
   "execution_count": 7,
   "metadata": {
    "colab": {},
    "colab_type": "code",
    "id": "0neinsdwI-FQ"
   },
   "outputs": [
    {
     "data": {
      "text/html": [
       "<div>\n",
       "<style scoped>\n",
       "    .dataframe tbody tr th:only-of-type {\n",
       "        vertical-align: middle;\n",
       "    }\n",
       "\n",
       "    .dataframe tbody tr th {\n",
       "        vertical-align: top;\n",
       "    }\n",
       "\n",
       "    .dataframe thead th {\n",
       "        text-align: right;\n",
       "    }\n",
       "</style>\n",
       "<table border=\"1\" class=\"dataframe\">\n",
       "  <thead>\n",
       "    <tr style=\"text-align: right;\">\n",
       "      <th></th>\n",
       "      <th>row_id</th>\n",
       "      <th>subject_id</th>\n",
       "      <th>hadm_id</th>\n",
       "      <th>text</th>\n",
       "    </tr>\n",
       "  </thead>\n",
       "  <tbody>\n",
       "    <tr>\n",
       "      <th>0</th>\n",
       "      <td>59658</td>\n",
       "      <td>65696</td>\n",
       "      <td>167705.0</td>\n",
       "      <td>PATIENT/TEST INFORMATION:\\nIndication: Left ve...</td>\n",
       "    </tr>\n",
       "    <tr>\n",
       "      <th>1</th>\n",
       "      <td>59659</td>\n",
       "      <td>82208</td>\n",
       "      <td>188268.0</td>\n",
       "      <td>PATIENT/TEST INFORMATION:\\nIndication: Acute M...</td>\n",
       "    </tr>\n",
       "    <tr>\n",
       "      <th>2</th>\n",
       "      <td>59660</td>\n",
       "      <td>82208</td>\n",
       "      <td>NaN</td>\n",
       "      <td>PATIENT/TEST INFORMATION:\\nIndication: Congest...</td>\n",
       "    </tr>\n",
       "    <tr>\n",
       "      <th>3</th>\n",
       "      <td>59669</td>\n",
       "      <td>15472</td>\n",
       "      <td>NaN</td>\n",
       "      <td>PATIENT/TEST INFORMATION:\\nIndication: Left ve...</td>\n",
       "    </tr>\n",
       "    <tr>\n",
       "      <th>4</th>\n",
       "      <td>59670</td>\n",
       "      <td>15472</td>\n",
       "      <td>118185.0</td>\n",
       "      <td>PATIENT/TEST INFORMATION:\\nIndication: Left ve...</td>\n",
       "    </tr>\n",
       "    <tr>\n",
       "      <th>5</th>\n",
       "      <td>59671</td>\n",
       "      <td>2961</td>\n",
       "      <td>130443.0</td>\n",
       "      <td>PATIENT/TEST INFORMATION:\\nIndication: Left ve...</td>\n",
       "    </tr>\n",
       "    <tr>\n",
       "      <th>6</th>\n",
       "      <td>59672</td>\n",
       "      <td>7429</td>\n",
       "      <td>110364.0</td>\n",
       "      <td>PATIENT/TEST INFORMATION:\\nIndication: Endocar...</td>\n",
       "    </tr>\n",
       "    <tr>\n",
       "      <th>7</th>\n",
       "      <td>59767</td>\n",
       "      <td>17513</td>\n",
       "      <td>124736.0</td>\n",
       "      <td>PATIENT/TEST INFORMATION:\\nIndication: Pericar...</td>\n",
       "    </tr>\n",
       "    <tr>\n",
       "      <th>8</th>\n",
       "      <td>59768</td>\n",
       "      <td>17513</td>\n",
       "      <td>124736.0</td>\n",
       "      <td>PATIENT/TEST INFORMATION:\\nIndication: Pericar...</td>\n",
       "    </tr>\n",
       "    <tr>\n",
       "      <th>9</th>\n",
       "      <td>59769</td>\n",
       "      <td>17513</td>\n",
       "      <td>124736.0</td>\n",
       "      <td>PATIENT/TEST INFORMATION:\\nIndication: Cath la...</td>\n",
       "    </tr>\n",
       "  </tbody>\n",
       "</table>\n",
       "</div>"
      ],
      "text/plain": [
       "   row_id  subject_id   hadm_id  \\\n",
       "0   59658       65696  167705.0   \n",
       "1   59659       82208  188268.0   \n",
       "2   59660       82208       NaN   \n",
       "3   59669       15472       NaN   \n",
       "4   59670       15472  118185.0   \n",
       "5   59671        2961  130443.0   \n",
       "6   59672        7429  110364.0   \n",
       "7   59767       17513  124736.0   \n",
       "8   59768       17513  124736.0   \n",
       "9   59769       17513  124736.0   \n",
       "\n",
       "                                                text  \n",
       "0  PATIENT/TEST INFORMATION:\\nIndication: Left ve...  \n",
       "1  PATIENT/TEST INFORMATION:\\nIndication: Acute M...  \n",
       "2  PATIENT/TEST INFORMATION:\\nIndication: Congest...  \n",
       "3  PATIENT/TEST INFORMATION:\\nIndication: Left ve...  \n",
       "4  PATIENT/TEST INFORMATION:\\nIndication: Left ve...  \n",
       "5  PATIENT/TEST INFORMATION:\\nIndication: Left ve...  \n",
       "6  PATIENT/TEST INFORMATION:\\nIndication: Endocar...  \n",
       "7  PATIENT/TEST INFORMATION:\\nIndication: Pericar...  \n",
       "8  PATIENT/TEST INFORMATION:\\nIndication: Pericar...  \n",
       "9  PATIENT/TEST INFORMATION:\\nIndication: Cath la...  "
      ]
     },
     "execution_count": 7,
     "metadata": {},
     "output_type": "execute_result"
    }
   ],
   "source": [
    "#This prints the first ten (or only 10 in this case) rows\n",
    "#If we wanted to print out all of the rows, we can also use:\n",
    "# print(first_ten_echo_reports)\n",
    "# (You can try it in another code block if you want)\n",
    "first_ten_echo_reports.head(10) "
   ]
  },
  {
   "cell_type": "markdown",
   "metadata": {
    "colab_type": "text",
    "id": "R_fUQZkwVzL4"
   },
   "source": [
    "Let us dig deeper and view the full content of the first report"
   ]
  },
  {
   "cell_type": "code",
   "execution_count": 8,
   "metadata": {
    "colab": {},
    "colab_type": "code",
    "id": "TqaXivbLKPa_"
   },
   "outputs": [
    {
     "name": "stdout",
     "output_type": "stream",
     "text": [
      "PATIENT/TEST INFORMATION:\n",
      "Indication: Left ventricular function. Myocardial infarction.\n",
      "Height: (in) 73\n",
      "Weight (lb): 200\n",
      "BSA (m2): 2.15 m2\n",
      "BP (mm Hg): 100/42\n",
      "HR (bpm): 89\n",
      "Status: Inpatient\n",
      "Date/Time: [**2196-9-16**] at 01:19\n",
      "Test: Portable TTE (Focused views)\n",
      "Doppler: Limited Doppler and color Doppler\n",
      "Contrast: None\n",
      "Technical Quality: Adequate\n",
      "\n",
      "\n",
      "INTERPRETATION:\n",
      "\n",
      "Findings:\n",
      "\n",
      "LEFT VENTRICLE: Normal LV wall thickness and cavity size. Severe regional LV\n",
      "systolic dysfunction. No resting LVOT gradient.\n",
      "\n",
      "LV WALL MOTION: Regional LV wall motion abnormalities include: mid anterior -\n",
      "akinetic; mid anteroseptal - akinetic; anterior apex - akinetic; septal apex-\n",
      "akinetic; apex - akinetic;\n",
      "\n",
      "RIGHT VENTRICLE: Mildly dilated RV cavity. Mild global RV free wall\n",
      "hypokinesis.\n",
      "\n",
      "AORTIC VALVE: Bioprosthetic aortic valve prosthesis (AVR). AVR leaflets move\n",
      "normally.\n",
      "\n",
      "MITRAL VALVE: Mildly thickened mitral valve leaflets. Moderate (2+) MR.\n",
      "\n",
      "TRICUSPID VALVE: Indeterminate PA systolic pressure.\n",
      "\n",
      "PERICARDIUM: No pericardial effusion.\n",
      "\n",
      "GENERAL COMMENTS: The patient appears to be in sinus rhythm. Resting\n",
      "tachycardia (HR>100bpm). Emergency study performed by the cardiology fellow on\n",
      "call.\n",
      "\n",
      "Conclusions:\n",
      "Left ventricular wall thicknesses and cavity size are normal. There is severe\n",
      "regional left ventricular systolic dysfunction with anterior and anteroseptal\n",
      "hypokinesis. There is mild hypokinesis of the remaining segments (LVEF = 25%).\n",
      "This is most c/w multivessel CAD (or single-vessel CAD and another co-existing\n",
      "process). The right ventricular cavity is mildly dilated with mild global free\n",
      "wall hypokinesis. A bioprosthetic aortic valve prosthesis is present. The\n",
      "aortic valve prosthesis leaflets appear to move normally, but transvalvular\n",
      "gradients were not evaluated on this emergency study. The mitral valve\n",
      "leaflets are mildly thickened. Moderate (2+) mitral regurgitation is seen.\n",
      "There is no pericardial effusion.\n",
      "\n",
      "IMPRESSION: Severe regional and global left ventricular systolic dysfunction.\n",
      "Mild right ventricular systolic dysfunction. Moderate mitral regurgitation.\n",
      "Limited emergency study.\n",
      "\n",
      "\n",
      "\n"
     ]
    }
   ],
   "source": [
    "report = first_ten_echo_reports[\"text\"][0] \n",
    "print(report)\n",
    "#Arrays start numbering at 0.  If you want to print out the second row, you can type:\n",
    "#report = first_ten_echo_reports[\"text\"][1] \n",
    "#Don't forget to rerun the block after you make changes!"
   ]
  },
  {
   "cell_type": "markdown",
   "metadata": {
    "colab_type": "text",
    "id": "HRd_CVNIWFk_"
   },
   "source": [
    "We are going to extract the heart rate from this note using regular expressions a powerful tool that allows us to do simple text analytics.\n",
    "Christina to add regex101 example here from her [notebook](https://github.com/christinium/JapanRegEx/blob/master/1.1%20-%20RegEx%20-%20Regular%20Expressions.ipynb)"
   ]
  },
  {
   "cell_type": "markdown",
   "metadata": {
    "colab_type": "text",
    "id": "ZfuBa5zmWxyq"
   },
   "source": [
    "To use regular expressions in python we import the regular library (typically this is done at the top of the file)."
   ]
  },
  {
   "cell_type": "code",
   "execution_count": 9,
   "metadata": {
    "colab": {},
    "colab_type": "code",
    "id": "BD4XxiTJKLjt"
   },
   "outputs": [],
   "source": [
    "import re"
   ]
  },
  {
   "cell_type": "markdown",
   "metadata": {
    "colab_type": "text",
    "id": "6JPvo38lW6br"
   },
   "source": [
    "Let us see how we can extract the line containing heart rate from the report.  \n",
    "*Remember, the variable \"report\" was established in the code block above.  If you want to look at a different report - you can change the row number and rerun that block and then this block.*"
   ]
  },
  {
   "cell_type": "code",
   "execution_count": 10,
   "metadata": {
    "colab": {},
    "colab_type": "code",
    "id": "b6_7iDmqLvoq"
   },
   "outputs": [
    {
     "name": "stdout",
     "output_type": "stream",
     "text": [
      "HR (bpm): 89\n"
     ]
    }
   ],
   "source": [
    "regular_expression_query = r'HR.*'\n",
    "hit = re.search(regular_expression_query,report) \n",
    "if hit:\n",
    "    print(hit.group())\n",
    "else:\n",
    "    print('No hit for the regular expression')"
   ]
  },
  {
   "cell_type": "markdown",
   "metadata": {
    "colab_type": "text",
    "id": "97-MalZMXGpw"
   },
   "source": [
    "This is great. But we want to extract the value (89) from this line. Let us see how we can extract two digit numbers from the report"
   ]
  },
  {
   "cell_type": "code",
   "execution_count": 11,
   "metadata": {
    "colab": {},
    "colab_type": "code",
    "id": "zklIpC25RtMb"
   },
   "outputs": [
    {
     "name": "stdout",
     "output_type": "stream",
     "text": [
      "73\n"
     ]
    }
   ],
   "source": [
    "regular_expression_query = r'\\d\\d'\n",
    "hit = re.search(regular_expression_query,report)\n",
    "if hit:\n",
    "    print(hit.group())\n",
    "else:\n",
    "    print('No hit for the regular expression')"
   ]
  },
  {
   "cell_type": "markdown",
   "metadata": {
    "colab_type": "text",
    "id": "NAwzEPaJXd4t"
   },
   "source": [
    "Regular expressions are **greedy**. This means they match the first occurrence in the input text. Therefore, we see that we get the height using our current regular expression. Let us modify the regular expression so that we get the first two digit number following the occurence of **HR** in the report."
   ]
  },
  {
   "cell_type": "code",
   "execution_count": 12,
   "metadata": {
    "colab": {},
    "colab_type": "code",
    "id": "sqSU0tvGSPdO"
   },
   "outputs": [
    {
     "name": "stdout",
     "output_type": "stream",
     "text": [
      "HR (bpm): 89\n",
      "HR\n",
      "89\n"
     ]
    }
   ],
   "source": [
    "regular_expression_query = r'(HR).*(\\d\\d)'\n",
    "hit = re.search(regular_expression_query,report)\n",
    "if hit:\n",
    "    print(hit.group(0))\n",
    "    print(hit.group(1))\n",
    "    print(hit.group(2))\n",
    "else:\n",
    "    print('No hit for the regular expression')"
   ]
  },
  {
   "cell_type": "markdown",
   "metadata": {
    "colab_type": "text",
    "id": "J5LUkH_MYL17"
   },
   "source": [
    "Great! This is exactly what we wanted. Now let us try to run our regular expression on each of the first ten reports and print the result."
   ]
  },
  {
   "cell_type": "code",
   "execution_count": 13,
   "metadata": {
    "colab": {},
    "colab_type": "code",
    "id": "AwfEpn5VTBX8"
   },
   "outputs": [
    {
     "name": "stdout",
     "output_type": "stream",
     "text": [
      "0 :: 89\n",
      "1 :: 95\n",
      "2 :: 92\n",
      "3 :: No hit for the regular expression\n",
      "4 :: No hit for the regular expression\n",
      "5 :: 86\n",
      "6 :: 90\n",
      "7 :: No hit for the regular expression\n",
      "8 :: No hit for the regular expression\n",
      "9 :: No hit for the regular expression\n"
     ]
    }
   ],
   "source": [
    "#This runs a for loop - which means for the first 10 rows in our first_ten_echo_reports, we will run our regular expression.  \n",
    "#We wrote the number 10 in the loop because we know there are 10 rows.\n",
    "for i in range(10):\n",
    "    report = first_ten_echo_reports[\"text\"][i]\n",
    "    regular_expression_query = r'(HR).*(\\d\\d)'\n",
    "    hit = re.search(regular_expression_query,report)\n",
    "    if hit:    \n",
    "        print('{} :: {}'.format(i,hit.group(2)))\n",
    "    else:\n",
    "        print('{} :: No hit for the regular expression'.format(i))\n",
    "  "
   ]
  },
  {
   "cell_type": "markdown",
   "metadata": {
    "colab_type": "text",
    "id": "g8twKiJbYfNN"
   },
   "source": [
    "We do not get any hits for reports 3, 4, 7, 8 and 9. Let us check report 2 why this is the case"
   ]
  },
  {
   "cell_type": "code",
   "execution_count": 14,
   "metadata": {
    "colab": {},
    "colab_type": "code",
    "id": "FEibHL4WTwma"
   },
   "outputs": [
    {
     "name": "stdout",
     "output_type": "stream",
     "text": [
      "PATIENT/TEST INFORMATION:\n",
      "Indication: Left ventricular function. Shortness of breath. History of lung cancer with right pneumonectomy.\n",
      "Height: (in) 72\n",
      "Weight (lb): 200\n",
      "BSA (m2): 2.13 m2\n",
      "BP (mm Hg): 122/90\n",
      "Status: Inpatient\n",
      "Date/Time: [**2176-5-28**] at 08:58\n",
      "Test: TTE(Focused views)\n",
      "Doppler: Focused pulse and color flow\n",
      "Contrast: None\n",
      "Technical Quality: Suboptimal\n",
      "\n",
      "\n",
      "INTERPRETATION:\n",
      "\n",
      "Findings:\n",
      "\n",
      "This study was compared to the prior study of [**2175-9-19**].\n",
      "\n",
      "\n",
      "RIGHT ATRIUM/INTERATRIAL SEPTUM: The right atrium is not well visualized.\n",
      "\n",
      "LEFT VENTRICLE: Left ventricular wall thicknesses and cavity size are normal.\n",
      "Overall left ventricular systolic function is moderately depressed.\n",
      "\n",
      "RIGHT VENTRICLE: The right ventricular free wall is hypertrophied. Right\n",
      "ventricular systolic function appears depressed.\n",
      "\n",
      "AORTA: The aortic root is normal in diameter. The ascending aorta is mildly\n",
      "dilated.\n",
      "\n",
      "AORTIC VALVE: The aortic valve leaflets are mildly thickened. There is no\n",
      "significant aortic valve stenosis.\n",
      "\n",
      "MITRAL VALVE: The mitral valve is not well seen.\n",
      "\n",
      "PERICARDIUM: There is a small to moderate sized pericardial effusion. There\n",
      "are no echocardiographic signs of tamponade.\n",
      "\n",
      "GENERAL COMMENTS: Suboptimal image quality due to poor echo windows. The\n",
      "echocardiographic results were reviewed by telephone with the houseofficer\n",
      "caring for the patient.\n",
      "\n",
      "Conclusions:\n",
      "Technically suboptimal study. Left ventricular wall thicknesses and cavity\n",
      "size are normal. Overall left ventricular systolic function is moderately\n",
      "depressed (global). Regional function could not be assessed. The right\n",
      "ventricular free wall is hypertrophied. Right ventricular systolic function\n",
      "appears depressed. The ascending aorta is mildly dilated. The aortic valve\n",
      "leaflets are mildly thickened. There is no significant aortic valve stenosis.\n",
      "Aortic regurgitation is not seen (but suboptimal views). The mitral valve is\n",
      "not well seen. There is a small-moderate pericardial effusion, but without 2D\n",
      "echo evidence of tamponade.\n",
      "\n",
      "Compared to the prior study of [**2175-9-18**], a small-moderate circumferential\n",
      "pericardial effusion is now present. Global left ventricular systolic function\n",
      "has improved.\n",
      "\n",
      "\n",
      "\n"
     ]
    }
   ],
   "source": [
    "print(first_ten_echo_reports[\"text\"][3])"
   ]
  },
  {
   "cell_type": "markdown",
   "metadata": {
    "colab_type": "text",
    "id": "TFgb6Zfwhz9I"
   },
   "source": [
    "**Exercise 2:** The pulmonary therapists make a note for patients who are on mechanical ventilation.  We will analyze these notes.<br>\n",
    "a) Save the first 10 respiratory notes where the \"description\" column is \"Respiratory Care Shift Note\" into a variable called \"first_ten_resp_reports\" and then print the results. <br>\n",
    "b) Save the first respiratory note as variable \"resp_report\".<br>\n",
    "c) Print out the line that contains right upper lobe (RUL) lung sounds. Then do the same for RLL (right lower lobe), LUL, LLL."
   ]
  },
  {
   "cell_type": "code",
   "execution_count": 15,
   "metadata": {
    "colab": {},
    "colab_type": "code",
    "id": "vDQWKND7hvV6"
   },
   "outputs": [],
   "source": [
    "#Use this box to get the first 10 respiratory reports\n",
    "#The category is 'Respiratory ' (note the space after respiratory)\n"
   ]
  },
  {
   "cell_type": "code",
   "execution_count": 16,
   "metadata": {
    "colab": {},
    "colab_type": "code",
    "id": "9dA-auxEkzst"
   },
   "outputs": [],
   "source": [
    "##Use this box to print out the first report"
   ]
  },
  {
   "cell_type": "code",
   "execution_count": 17,
   "metadata": {
    "colab": {},
    "colab_type": "code",
    "id": "B64FV3XirixA"
   },
   "outputs": [],
   "source": [
    "#Printing out lines with RUL\n",
    "\n",
    "  "
   ]
  },
  {
   "cell_type": "markdown",
   "metadata": {
    "colab_type": "text",
    "id": "hVBgGkl3jlkr"
   },
   "source": [
    "SELECT distinct category\n",
    "FROM `physionet-data.mimiciii_notes.noteevents`\n"
   ]
  },
  {
   "cell_type": "markdown",
   "metadata": {
    "colab_type": "text",
    "id": "gPheQMFgY-fH"
   },
   "source": [
    "### Answers to Exercises:\n",
    "\n"
   ]
  },
  {
   "cell_type": "markdown",
   "metadata": {
    "colab_type": "text",
    "id": "A37jvcd4YFAS"
   },
   "source": [
    "**Exercise 1: Can you modify the notebook to print the height of the patient mentioned in the first ten echo reports?**<br>\n",
    "a) How do you write an expression to just pull out the betablockers, a type of medication that can decrease the heart rate and blood pressure (they end in lol)<br>\n",
    "```\n",
    "[aA-zZ].*lol\n",
    "```\n",
    "b) You want to help someone figure out drugs that need to be dosed twice daily (or BID) for dosing purposes. How do you print out only lines that or twice a day (BID)?  \n",
    "```\n",
    ".*[BID]\n",
    "```\n",
    "c) How do you print lines that are more than once a day (including both BID and TID, which is three times daily)?\n",
    "```\n",
    ".*BID|.*TID\n",
    "```\n"
   ]
  },
  {
   "cell_type": "markdown",
   "metadata": {
    "colab_type": "text",
    "id": "VMjz2jDqtFGD"
   },
   "source": [
    "**Exercise 2:** The pulmonary therapists make a note for patients who are on mechanical ventilation.  We will analyze these notes.<br>\n",
    "a) Save the first 10 respiratory notes where the \"description\" column is \"Respiratory Care Shift Note\" into a variable called \"first_ten_resp_reports\" and then print the results. <br>\n",
    "```\n",
    "#Use this box to get the first 10 respiratory reports\n",
    "#The category is 'Respiratory ' (note the space after respiratory)\n",
    "first_ten_resp_reports = run_query('''\n",
    "SELECT row_id, subject_id, hadm_id, category, description, TEXT\n",
    "FROM `physionet-data.mimiciii_notes.noteevents`\n",
    "WHERE category = \"Respiratory \" AND description = 'Respiratory Care Shift Note'\n",
    "limit 10\n",
    "''')\n",
    "\n",
    "first_ten_resp_reports.head(10)\n",
    "```\n",
    "\n",
    "b) Save the first respiratory note as variable \"resp_report\".<br>\n",
    "```\n",
    "resp_report = first_ten_resp_reports[\"TEXT\"][0] \n",
    "print(resp_report)\n",
    "```\n",
    "c) Print out the line that contains right upper lobe (RUL) lung sounds. Then do the same for RLL (right lower lobe), LUL, LLL.\n",
    "```\n",
    "regular_expression_query = r'RUL.*'\n",
    "hit = re.search(regular_expression_query,resp_report) \n",
    "if hit:\n",
    "  print(hit.group())\n",
    "else:\n",
    "  print('No hit for the regular expression')\n",
    "  \n",
    "for i in range(len(first_ten_resp_reports)):\n",
    "  if hit:\n",
    "    print(hit.group())\n",
    "  else:\n",
    "    print('No hit for the regular expression')\n",
    "\n",
    "## Replase RUL with RLL, LUL, LLL to look at the other lobes\n",
    "```"
   ]
  }
 ],
 "metadata": {
  "colab": {
   "collapsed_sections": [],
   "include_colab_link": true,
   "name": "Copy of Regular expressions tutorial .ipynb",
   "provenance": [],
   "version": "0.3.2"
  },
  "kernelspec": {
   "display_name": "Python 3",
   "language": "python",
   "name": "python3"
  },
  "language_info": {
   "codemirror_mode": {
    "name": "ipython",
    "version": 3
   },
   "file_extension": ".py",
   "mimetype": "text/x-python",
   "name": "python",
   "nbconvert_exporter": "python",
   "pygments_lexer": "ipython3",
   "version": "3.6.8"
  }
 },
 "nbformat": 4,
 "nbformat_minor": 1
}
