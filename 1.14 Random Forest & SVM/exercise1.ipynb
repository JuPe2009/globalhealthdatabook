{
 "cells": [
  {
   "cell_type": "markdown",
   "metadata": {},
   "source": [
    "# Exercise 1: Data at a glance \n",
    "\n",
    "As explained in Introduction, we will be using first laboratary measurements of patients in MIMIC III database to predict ICU mortality. Generally, the largest amount of time in data analysis project will be spent on data extraction and cleaning, especially for clinical data. In clinical data, the values can be noisy, irregularly sampled, incorrect or even missing. Also due to the complex structure of most clinical database, the data are difficult to extract with specified inclusion/exclusion criterion. In MIMIC III, database structure has been optimized for users for data extraction and we used Python and [Postgresql](https://www.postgresql.org/) to retrieve the data. The details of data extraction can be found at [MIMIC Github](https://github.com/MIT-LCP/mimic-code/blob/master/notebooks/first_labs.ipynb). The data table was serialized to \"exercise_data.csv\" file. "
   ]
  },
  {
   "cell_type": "markdown",
   "metadata": {},
   "source": [
    "In this exercise, we will use Python data analysis library [Pandas](https://pandas.pydata.org/) to work on the data. For Python library installation within jupyter notebook, please use the codes in the following cell and replace \"pandas\" to the library you want to install, for example \"numpy\". "
   ]
  },
  {
   "cell_type": "code",
   "execution_count": 249,
   "metadata": {},
   "outputs": [],
   "source": [
    "import sys\n",
    "!{sys.executable} -m pip install pandas"
   ]
  },
  {
   "cell_type": "markdown",
   "metadata": {},
   "source": [
    "First, import library to use in the analysis"
   ]
  },
  {
   "cell_type": "code",
   "execution_count": 241,
   "metadata": {},
   "outputs": [],
   "source": [
    "# We import pandas library here, refered as pd. The functions in pandas can be used by pd.(function name)\n",
    "import pandas as pd"
   ]
  },
  {
   "cell_type": "markdown",
   "metadata": {},
   "source": [
    "Then, we load the extracted data from csv file and display the structure of the data. "
   ]
  },
  {
   "cell_type": "code",
   "execution_count": 250,
   "metadata": {},
   "outputs": [
    {
     "data": {
      "text/html": [
       "<div>\n",
       "<style scoped>\n",
       "    .dataframe tbody tr th:only-of-type {\n",
       "        vertical-align: middle;\n",
       "    }\n",
       "\n",
       "    .dataframe tbody tr th {\n",
       "        vertical-align: top;\n",
       "    }\n",
       "\n",
       "    .dataframe thead th {\n",
       "        text-align: right;\n",
       "    }\n",
       "</style>\n",
       "<table border=\"1\" class=\"dataframe\">\n",
       "  <thead>\n",
       "    <tr style=\"text-align: right;\">\n",
       "      <th></th>\n",
       "      <th>subject_id</th>\n",
       "      <th>hadm_id</th>\n",
       "      <th>icustay_id</th>\n",
       "      <th>gender</th>\n",
       "      <th>age</th>\n",
       "      <th>first_careunit</th>\n",
       "      <th>aniongap_min</th>\n",
       "      <th>aniongap_max</th>\n",
       "      <th>albumin_min</th>\n",
       "      <th>albumin_max</th>\n",
       "      <th>...</th>\n",
       "      <th>pt_min</th>\n",
       "      <th>pt_max</th>\n",
       "      <th>sodium_min</th>\n",
       "      <th>sodium_max</th>\n",
       "      <th>bun_min</th>\n",
       "      <th>bun_max</th>\n",
       "      <th>wbc_min</th>\n",
       "      <th>wbc_max</th>\n",
       "      <th>vent</th>\n",
       "      <th>mort_icu</th>\n",
       "    </tr>\n",
       "  </thead>\n",
       "  <tbody>\n",
       "    <tr>\n",
       "      <th>0</th>\n",
       "      <td>3</td>\n",
       "      <td>145834</td>\n",
       "      <td>211552</td>\n",
       "      <td>M</td>\n",
       "      <td>76.5268</td>\n",
       "      <td>MICU</td>\n",
       "      <td>15.0</td>\n",
       "      <td>23.0</td>\n",
       "      <td>1.8</td>\n",
       "      <td>1.8</td>\n",
       "      <td>...</td>\n",
       "      <td>13.5</td>\n",
       "      <td>15.7</td>\n",
       "      <td>136.0</td>\n",
       "      <td>153.0</td>\n",
       "      <td>41.0</td>\n",
       "      <td>53.0</td>\n",
       "      <td>11.3</td>\n",
       "      <td>24.4</td>\n",
       "      <td>1</td>\n",
       "      <td>0</td>\n",
       "    </tr>\n",
       "    <tr>\n",
       "      <th>1</th>\n",
       "      <td>4</td>\n",
       "      <td>185777</td>\n",
       "      <td>294638</td>\n",
       "      <td>F</td>\n",
       "      <td>47.8450</td>\n",
       "      <td>MICU</td>\n",
       "      <td>15.0</td>\n",
       "      <td>15.0</td>\n",
       "      <td>2.8</td>\n",
       "      <td>2.8</td>\n",
       "      <td>...</td>\n",
       "      <td>12.8</td>\n",
       "      <td>12.8</td>\n",
       "      <td>141.0</td>\n",
       "      <td>141.0</td>\n",
       "      <td>10.0</td>\n",
       "      <td>10.0</td>\n",
       "      <td>9.7</td>\n",
       "      <td>9.7</td>\n",
       "      <td>0</td>\n",
       "      <td>0</td>\n",
       "    </tr>\n",
       "    <tr>\n",
       "      <th>2</th>\n",
       "      <td>6</td>\n",
       "      <td>107064</td>\n",
       "      <td>228232</td>\n",
       "      <td>F</td>\n",
       "      <td>65.9407</td>\n",
       "      <td>SICU</td>\n",
       "      <td>20.0</td>\n",
       "      <td>23.0</td>\n",
       "      <td>3.0</td>\n",
       "      <td>3.0</td>\n",
       "      <td>...</td>\n",
       "      <td>12.6</td>\n",
       "      <td>14.6</td>\n",
       "      <td>134.0</td>\n",
       "      <td>138.0</td>\n",
       "      <td>62.0</td>\n",
       "      <td>65.0</td>\n",
       "      <td>10.6</td>\n",
       "      <td>10.6</td>\n",
       "      <td>0</td>\n",
       "      <td>0</td>\n",
       "    </tr>\n",
       "    <tr>\n",
       "      <th>3</th>\n",
       "      <td>7</td>\n",
       "      <td>118037</td>\n",
       "      <td>236754</td>\n",
       "      <td>F</td>\n",
       "      <td>0.0017</td>\n",
       "      <td>NICU</td>\n",
       "      <td>NaN</td>\n",
       "      <td>NaN</td>\n",
       "      <td>NaN</td>\n",
       "      <td>NaN</td>\n",
       "      <td>...</td>\n",
       "      <td>NaN</td>\n",
       "      <td>NaN</td>\n",
       "      <td>NaN</td>\n",
       "      <td>NaN</td>\n",
       "      <td>NaN</td>\n",
       "      <td>NaN</td>\n",
       "      <td>22.8</td>\n",
       "      <td>22.8</td>\n",
       "      <td>0</td>\n",
       "      <td>0</td>\n",
       "    </tr>\n",
       "    <tr>\n",
       "      <th>4</th>\n",
       "      <td>8</td>\n",
       "      <td>159514</td>\n",
       "      <td>262299</td>\n",
       "      <td>M</td>\n",
       "      <td>0.0012</td>\n",
       "      <td>NICU</td>\n",
       "      <td>NaN</td>\n",
       "      <td>NaN</td>\n",
       "      <td>NaN</td>\n",
       "      <td>NaN</td>\n",
       "      <td>...</td>\n",
       "      <td>NaN</td>\n",
       "      <td>NaN</td>\n",
       "      <td>NaN</td>\n",
       "      <td>NaN</td>\n",
       "      <td>NaN</td>\n",
       "      <td>NaN</td>\n",
       "      <td>18.7</td>\n",
       "      <td>18.7</td>\n",
       "      <td>1</td>\n",
       "      <td>0</td>\n",
       "    </tr>\n",
       "  </tbody>\n",
       "</table>\n",
       "<p>5 rows × 44 columns</p>\n",
       "</div>"
      ],
      "text/plain": [
       "   subject_id  hadm_id  icustay_id gender      age first_careunit  \\\n",
       "0           3   145834      211552      M  76.5268           MICU   \n",
       "1           4   185777      294638      F  47.8450           MICU   \n",
       "2           6   107064      228232      F  65.9407           SICU   \n",
       "3           7   118037      236754      F   0.0017           NICU   \n",
       "4           8   159514      262299      M   0.0012           NICU   \n",
       "\n",
       "   aniongap_min  aniongap_max  albumin_min  albumin_max    ...     pt_min  \\\n",
       "0          15.0          23.0          1.8          1.8    ...       13.5   \n",
       "1          15.0          15.0          2.8          2.8    ...       12.8   \n",
       "2          20.0          23.0          3.0          3.0    ...       12.6   \n",
       "3           NaN           NaN          NaN          NaN    ...        NaN   \n",
       "4           NaN           NaN          NaN          NaN    ...        NaN   \n",
       "\n",
       "   pt_max  sodium_min  sodium_max  bun_min  bun_max  wbc_min  wbc_max  vent  \\\n",
       "0    15.7       136.0       153.0     41.0     53.0     11.3     24.4     1   \n",
       "1    12.8       141.0       141.0     10.0     10.0      9.7      9.7     0   \n",
       "2    14.6       134.0       138.0     62.0     65.0     10.6     10.6     0   \n",
       "3     NaN         NaN         NaN      NaN      NaN     22.8     22.8     0   \n",
       "4     NaN         NaN         NaN      NaN      NaN     18.7     18.7     1   \n",
       "\n",
       "   mort_icu  \n",
       "0         0  \n",
       "1         0  \n",
       "2         0  \n",
       "3         0  \n",
       "4         0  \n",
       "\n",
       "[5 rows x 44 columns]"
      ]
     },
     "execution_count": 250,
     "metadata": {},
     "output_type": "execute_result"
    }
   ],
   "source": [
    "# Load data from csv file\n",
    "data = pd.read_csv(\"./data.csv\", index_col=0)\n",
    "\n",
    "# Display the first 5 rows of data to show the table structure\n",
    "data.head()"
   ]
  },
  {
   "cell_type": "markdown",
   "metadata": {},
   "source": [
    "Data at a glance: after we load the data, we may ask the following questions: \n",
    "\n",
    "1. How many ICU stays (rows) in the data? How are they indexed? \n",
    "2. How many clinical features (columns) in the data? What are they? \n",
    "3. What are the charateristics of clinical variables in the data? "
   ]
  },
  {
   "cell_type": "code",
   "execution_count": 251,
   "metadata": {},
   "outputs": [
    {
     "name": "stdout",
     "output_type": "stream",
     "text": [
      "There are 61532 rows in the dataset. \n",
      "The unique identifier of this dataset is icustay_id. \n"
     ]
    }
   ],
   "source": [
    "# Answer the first set of questions \n",
    "\n",
    "# find the dimension of data - (rows, columns)\n",
    "(num_rows, num_columns) = data.shape\n",
    "\n",
    "print(\"There are {:d} rows in the dataset. \".format(num_rows))\n",
    "\n",
    "# identify the primary identifier of patients. From the data extraction we know that \n",
    "# the patients should be uniquely identified by icustay_id. We can check this by \n",
    "# check whether the number of unique icustay_id equals to number of rows in the following codes\n",
    "if len(data['icustay_id'].unique())==num_rows:\n",
    "    print(\"The unique identifier of this dataset is icustay_id. \")"
   ]
  },
  {
   "cell_type": "code",
   "execution_count": 252,
   "metadata": {},
   "outputs": [
    {
     "name": "stdout",
     "output_type": "stream",
     "text": [
      "There are 44 columns in the dataset. \n",
      "The variables in datasets are: \n",
      "\tsubject_id\t\thadm_id\n",
      "\ticustay_id\t\tgender\n",
      "\tage\t\tfirst_careunit\n",
      "\taniongap_min\t\taniongap_max\n",
      "\talbumin_min\t\talbumin_max\n",
      "\tbicarbonate_min\t\tbicarbonate_max\n",
      "\tbilirubin_min\t\tbilirubin_max\n",
      "\tcreatinine_min\t\tcreatinine_max\n",
      "\tchloride_min\t\tchloride_max\n",
      "\tglucose_min\t\tglucose_max\n",
      "\thematocrit_min\t\thematocrit_max\n",
      "\themoglobin_min\t\themoglobin_max\n",
      "\tlactate_min\t\tlactate_max\n",
      "\tplatelet_min\t\tplatelet_max\n",
      "\tpotassium_min\t\tpotassium_max\n",
      "\tptt_min\t\tptt_max\n",
      "\tinr_min\t\tinr_max\n",
      "\tpt_min\t\tpt_max\n",
      "\tsodium_min\t\tsodium_max\n",
      "\tbun_min\t\tbun_max\n",
      "\twbc_min\t\twbc_max\n",
      "\tvent\t\tmort_icu\n"
     ]
    }
   ],
   "source": [
    "# Answer the second set of questions \n",
    "\n",
    "# Display the number of columns we found in the cell above \n",
    "print(\"There are {:d} columns in the dataset. \".format(num_columns))\n",
    "\n",
    "# Find and Display the column name (variable names) in the dataset \n",
    "print(\"The variables in datasets are: \")\n",
    "for i in range(len(data.columns)-1)[::2]:\n",
    "    print(\"\\t\"+data.columns[i]+\"\\t\\t\"+data.columns[i+1])"
   ]
  },
  {
   "cell_type": "markdown",
   "metadata": {},
   "source": [
    "Further explanation of the variables are as following:\n",
    "+ subject_id: the id for each patient\n",
    "+ hadm_id: the id for each hospital admission \n",
    "+ icustay_id: the id for each icu stay\n",
    "+ gender: the gender of patient\n",
    "+ age: the age of patient at the time of ICU admission \n",
    "+ first_careunit: the ICU type that the patient was admitted to \n",
    "+ aniongap_min/max: minimum/maximum value of first-day **ANION GAP** measurement. The value is NaN(Not a Number) if it does not exists. Similar for the lab tests below. \n",
    "+ albumin_min/max: **Albumin measurement**\n",
    "+ bicarbonate_min/max: **Bicarbonate**\n",
    "+ bilirubin_min/max: **Bilirubin**\n",
    "+ creatinine_min/max: **Creatinine**\n",
    "+ chloride_min/max: **Chloride**\n",
    "+ glucose_min/max: **Glucose**\n",
    "+ hematocrit_min/max: **Hematocrit**\n",
    "+ hemoglobin_min/max: **Hemoglobin**\n",
    "+ lactate_min/max: **Lactate**\n",
    "+ platelet_min/max: **Platelet**\n",
    "+ potassium_min/max: **Potassium**\n",
    "+ ptt_min/max: **partial thromboplastin time (PTT)**\n",
    "+ inr_min/max: **international normalized ratio (INR)**\n",
    "+ pt_min/max: **prothrombin time (PT)**\n",
    "+ sodium_min/max: **Sodium**\n",
    "+ bun_min/max: **Blood Urea Nitrogen (BUN)**\n",
    "+ wbc_min/max: **White Blood Cell (WBC)**\n",
    "+ vent: Whether a patient is ventilated on the first day of their ICU stay. 1 indicates that there was ventilation on the first day while 0 indicates no ventilation. \n",
    "+ mort_icu: Whether a patient could not survive in ICU. 1 indicates that the patient was dead in the ICU stay while 0 indicates that the patient survived in ICU stay. "
   ]
  },
  {
   "cell_type": "markdown",
   "metadata": {},
   "source": [
    "Next, in this step, we are going to show the baseline data characteristics of clinical variables. In this example, we are going to demonstrate two variables, **gender** (categorical) and **albumin_min** (continuous). "
   ]
  },
  {
   "cell_type": "code",
   "execution_count": 253,
   "metadata": {},
   "outputs": [],
   "source": [
    "# First import matplotlib library for data visualization \n",
    "import matplotlib.pyplot as plt"
   ]
  },
  {
   "cell_type": "code",
   "execution_count": 254,
   "metadata": {},
   "outputs": [
    {
     "name": "stdout",
     "output_type": "stream",
     "text": [
      "The proportion of male patients in dataset is 56.02%. \n",
      "The proportion of female patients in dataset is 43.98%. \n"
     ]
    }
   ],
   "source": [
    "# Calculate the proportion of male and female \n",
    "\n",
    "# Select Male/Female subgroups from data \n",
    "male_patients = data[data['gender']=='M']\n",
    "female_patients = data[data['gender']=='F']\n",
    "\n",
    "# Calculate the proportions and print out the results. \n",
    "percent_male = float(len(male_patients)) / len(data) * 100\n",
    "percent_female = float(len(female_patients)) / len(data) * 100\n",
    "print(\"The proportion of male patients in dataset is {:.2f}%. \".format(percent_male))\n",
    "print(\"The proportion of female patients in dataset is {:.2f}%. \".format(percent_female))"
   ]
  },
  {
   "cell_type": "code",
   "execution_count": 255,
   "metadata": {},
   "outputs": [
    {
     "name": "stdout",
     "output_type": "stream",
     "text": [
      "The mean of albumin minimum values is 3.12 g/dL. \n",
      "The standard deviation of albumin minimum values is 0.72. \n"
     ]
    }
   ],
   "source": [
    "# Calculate the mean and standard deviation of albumin_min\n",
    "\n",
    "mean_albumin_min = data['albumin_min'].mean()\n",
    "std_albumin_min = data['albumin_min'].std()\n",
    "print(\"The mean of albumin minimum values is {:.2f} g/dL. \".format(mean_albumin_min))\n",
    "print(\"The standard deviation of albumin minimum values is {:.2f}. \".format(std_albumin_min))"
   ]
  },
  {
   "cell_type": "markdown",
   "metadata": {},
   "source": [
    "### Optional:\n",
    "1. Calculate the male/female proportion according to mortality. \n",
    "2. Calculate the mean and standard deviation of other lab tests, according to mortality. \n",
    "3. Plot the calculated results. "
   ]
  },
  {
   "cell_type": "code",
   "execution_count": null,
   "metadata": {},
   "outputs": [],
   "source": []
  }
 ],
 "metadata": {
  "kernelspec": {
   "display_name": "Python 3",
   "language": "python",
   "name": "py3"
  },
  "language_info": {
   "codemirror_mode": {
    "name": "ipython",
    "version": 3
   },
   "file_extension": ".py",
   "mimetype": "text/x-python",
   "name": "python",
   "nbconvert_exporter": "python",
   "pygments_lexer": "ipython3",
   "version": "3.6.5"
  }
 },
 "nbformat": 4,
 "nbformat_minor": 2
}
