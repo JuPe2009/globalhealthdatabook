{
 "cells": [
  {
   "cell_type": "markdown",
   "metadata": {},
   "source": [
    "# Exercise Introduction\n",
    "\n",
    "In this series of exercises, we will begin to apply statistical learning methods such as Random Forest and Support Vector Machine (SVM) on real world clinical electronic health records (EHR) data. We are going to use data extracted from publicly available research clinical dataset [**M**edical **I**nformation **M**art for **I**ntensive **C**are (MIMIC) III ](https://www.nature.com/articles/sdata201635). MIMIC III consists of medical records of 40,000 ICU patients between 2001 and 2012. Data in MIMIC-III include demographic information, vital signs, medication records, laboratory measurements, observations, fluid balance, procedure codes, diagnostic codes, imaging reports, hospital length of stay, survival data, and so on. The database contains granular, deidentified ICU data generated from over 70 intensive care unit beds with medical, surgical, cardiac, and neurological patients. \n",
    "\n",
    "## Jupyter Notebook\n",
    "\n",
    "Jupyter Notebook is a web application which create an interactive environment for you to code and view the outputs of your results. It is widely used in data cleaning and transformation, statistical modeling, data visualization, machien learning and so on. The instruction of Jupyter Notebook installation can be found [here](http://jupyter.org/install.html). We will be using Python3 kernel of Jupyter Notebook in this series of exercises. \n",
    "\n",
    "## Data\n",
    "\n",
    "In this example, the problem we will investigate is predicting the ICU mortality using patient demographics and first laboratory tests. We have the demographic information and first laboratory measurements for patients admitted to the ICU. These information reflects the patient state at the moment he/she was admitted to ICU and we are going to use them to estimate the probability that the patient is going to survive in ICU. In statistical modeling or machine learning field, this is a supervised classification problem. It is a supervised problem because, besides features (demographics and first lab measurements), we also have labels (ICU mortality) for model training. The trained model would be able to classify the patient's condition into ICU survival group or ICU non-survival group, therefore it is a classification problem. \n",
    "\n",
    "## Workflow \n",
    "\n",
    "After the clinical question is defined, we will follow a workflow to analyze and answer the question. The workflow is as follow: \n",
    "\n",
    "1. Problem statement and data specification \n",
    "2. Identify and extract the required data \n",
    "3. Data cleaninng and missing value processing \n",
    "4. Data formatting and preparation for modelling \n",
    "5. Modeling training \n",
    "6. Model performance evaluation \n",
    "7. Parameter ajustment and fine-tuning \n",
    "8. Model interpretation and report. \n",
    "\n",
    "Our question has been defined in **Data** Section, so we will start from step 2 in exercise 1. Let's get started! "
   ]
  },
  {
   "cell_type": "markdown",
   "metadata": {},
   "source": []
  }
 ],
 "metadata": {
  "kernelspec": {
   "display_name": "Python 3",
   "language": "python",
   "name": "py3"
  },
  "language_info": {
   "codemirror_mode": {
    "name": "ipython",
    "version": 3
   },
   "file_extension": ".py",
   "mimetype": "text/x-python",
   "name": "python",
   "nbconvert_exporter": "python",
   "pygments_lexer": "ipython3",
   "version": "3.6.5"
  }
 },
 "nbformat": 4,
 "nbformat_minor": 2
}
