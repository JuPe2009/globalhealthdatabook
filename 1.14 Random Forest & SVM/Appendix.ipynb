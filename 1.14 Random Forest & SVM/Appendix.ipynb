{
 "cells": [
  {
   "cell_type": "markdown",
   "metadata": {},
   "source": [
    "# Appendix\n",
    "\n",
    "## Definitions and terminology\n",
    "\n",
    "- Domain knowledge: the knowledge to understand input data, for example, clinical knowledge of the correlation between age and ICU survival probablity. \n",
    "\n",
    "- Features: variables which contribute to classify the data points, e.g. clinical varaibles \n",
    "\n",
    "- Labels: the class that the data points belong to, e.g. died or survived in ICU \n",
    "\n",
    "- Linear separation: There exits a straight line or plane, to separate between data points from two classes (e.g. died / survived). \n",
    "\n",
    "- RBF kernel: Radial-basis function kernel. It is used as similarity measure between two points. The formula for RBF is $k(x_i, x_j) = exp(-1 / 2 d(x_i / length_scale, x_j / length_scale)^2)$\n",
    "\n",
    "- Ensemble:  Ensemblling is using multiple learning algorithms to obtain better predictive performance than could be obtained from any of the constituent learning algorithms alone."
   ]
  },
  {
   "cell_type": "code",
   "execution_count": null,
   "metadata": {},
   "outputs": [],
   "source": []
  }
 ],
 "metadata": {
  "kernelspec": {
   "display_name": "Python 3",
   "language": "python",
   "name": "py3"
  },
  "language_info": {
   "codemirror_mode": {
    "name": "ipython",
    "version": 3
   },
   "file_extension": ".py",
   "mimetype": "text/x-python",
   "name": "python",
   "nbconvert_exporter": "python",
   "pygments_lexer": "ipython3",
   "version": "3.6.5"
  }
 },
 "nbformat": 4,
 "nbformat_minor": 2
}
